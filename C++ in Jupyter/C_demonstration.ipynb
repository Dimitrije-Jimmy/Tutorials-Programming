{
 "cells": [
  {
   "cell_type": "markdown",
   "metadata": {},
   "source": [
    "# Source code\n",
    "\n",
    "* %%file filename.c     <-- for C\n",
    "* %%file filename.cpp   <-- for C++\n",
    "* %%writefile filename.fileextension        also works\n",
    "\n",
    "It will write this into a separate file"
   ]
  },
  {
   "cell_type": "code",
   "execution_count": 9,
   "metadata": {},
   "outputs": [
    {
     "name": "stdout",
     "output_type": "stream",
     "text": [
      "Overwriting c_program.c\n"
     ]
    }
   ],
   "source": [
    "%%file c_program.c\n",
    "\n",
    "#include <stdio.h>\n",
    "\n",
    "int main (void) {\n",
    "    printf(\"Hello World this is C\\n\");\n",
    "    printf(\"This is the second line.\\n\");\n",
    "    printf(\"Here is something\\n\");\n",
    "\n",
    "    return (0);\n",
    "}"
   ]
  },
  {
   "cell_type": "markdown",
   "metadata": {},
   "source": [
    "# Build / Compile\n",
    "\n",
    "* %%bash        <-- for UNIX machines\n",
    "* %%cmd         <-- for Windows machines\n",
    "\n",
    "With this we build the code in the other file"
   ]
  },
  {
   "cell_type": "code",
   "execution_count": 10,
   "metadata": {},
   "outputs": [
    {
     "name": "stdout",
     "output_type": "stream",
     "text": [
      "Microsoft Windows [Version 10.0.22631.3880]\n",
      "(c) Microsoft Corporation. All rights reserved.\n",
      "\n"
     ]
    },
    {
     "name": "stdout",
     "output_type": "stream",
     "text": [
      "(base) c:\\Programming\\Tutorials\\C++ in Jupyter>\n",
      "(base) c:\\Programming\\Tutorials\\C++ in Jupyter>gcc c_program.c -g -o c_program\n",
      "\n",
      "(base) c:\\Programming\\Tutorials\\C++ in Jupyter>"
     ]
    }
   ],
   "source": [
    "%%cmd\n",
    "\n",
    "gcc c_program.c -g -o c_program"
   ]
  },
  {
   "cell_type": "markdown",
   "metadata": {},
   "source": [
    "# Run\n",
    "\n",
    "With this we run the file created and print its terminal outputs into here"
   ]
  },
  {
   "cell_type": "code",
   "execution_count": 11,
   "metadata": {},
   "outputs": [
    {
     "name": "stdout",
     "output_type": "stream",
     "text": [
      "Microsoft Windows [Version 10.0.22631.3880]\n",
      "(c) Microsoft Corporation. All rights reserved.\n",
      "\n",
      "(base) c:\\Programming\\Tutorials\\C++ in Jupyter>\n",
      "(base) c:\\Programming\\Tutorials\\C++ in Jupyter>.\\c_program\n",
      "Hello World this is C\n",
      "This is the second line.\n",
      "Here is something\n",
      "\n",
      "(base) c:\\Programming\\Tutorials\\C++ in Jupyter>"
     ]
    }
   ],
   "source": [
    "%%cmd\n",
    "\n",
    ".\\c_program\n"
   ]
  },
  {
   "cell_type": "markdown",
   "metadata": {},
   "source": [
    "in Unix it  would be %%bash; ./c_program\n",
    "\n",
    "`SHIFT + ENTER`, through the cells to just instantly execute instead of having to go to terminal for each change in file"
   ]
  },
  {
   "cell_type": "markdown",
   "metadata": {},
   "source": [
    "Now let's change input of function"
   ]
  },
  {
   "cell_type": "code",
   "execution_count": 8,
   "metadata": {},
   "outputs": [
    {
     "name": "stdout",
     "output_type": "stream",
     "text": [
      "Overwriting c_program2.c\n"
     ]
    }
   ],
   "source": [
    "%%file c_program2.c\n",
    "\n",
    "#include <stdio.h>\n",
    "\n",
    "int main (int argc, char **argv) {\n",
    "    int i;\n",
    "\n",
    "    i = 0;\n",
    "    // Accidentally built infinite loop ._.\n",
    "    while (i < argc) {\n",
    "        printf(\"argv[%d]: %s\\n\", i, argv[i]);\n",
    "        i++;\n",
    "    }\n",
    "\n",
    "    return (0);\n",
    "}"
   ]
  },
  {
   "cell_type": "code",
   "execution_count": 9,
   "metadata": {},
   "outputs": [
    {
     "name": "stdout",
     "output_type": "stream",
     "text": [
      "Microsoft Windows [Version 10.0.22631.3880]\n",
      "(c) Microsoft Corporation. All rights reserved.\n",
      "\n",
      "(base) c:\\Programming\\Tutorials\\C++ in Jupyter>\n",
      "(base) c:\\Programming\\Tutorials\\C++ in Jupyter>gcc c_program2.c -g -o c_program2\n",
      "\n",
      "(base) c:\\Programming\\Tutorials\\C++ in Jupyter>"
     ]
    }
   ],
   "source": [
    "%%cmd\n",
    "\n",
    "gcc c_program2.c -g -o c_program2"
   ]
  },
  {
   "cell_type": "code",
   "execution_count": 10,
   "metadata": {},
   "outputs": [
    {
     "name": "stdout",
     "output_type": "stream",
     "text": [
      "Microsoft Windows [Version 10.0.22631.3880]\n",
      "(c) Microsoft Corporation. All rights reserved.\n",
      "\n",
      "(base) c:\\Programming\\Tutorials\\C++ in Jupyter>\n",
      "(base) c:\\Programming\\Tutorials\\C++ in Jupyter>.\\c_program2 1 2 3 4 5\n",
      "argv[0]: .\\c_program2\n",
      "argv[1]: 1\n",
      "argv[2]: 2\n",
      "argv[3]: 3\n",
      "argv[4]: 4\n",
      "argv[5]: 5\n",
      "\n",
      "(base) c:\\Programming\\Tutorials\\C++ in Jupyter>"
     ]
    }
   ],
   "source": [
    "%%cmd\n",
    "\n",
    ".\\c_program2 1 2 3 4 5"
   ]
  },
  {
   "cell_type": "markdown",
   "metadata": {},
   "source": [
    "argv[0]: .\\c_program2\n",
    "argv[1]: 1\n",
    "argv[2]: 2\n",
    "argv[3]: 3\n",
    "argv[4]: 4\n",
    "argv[5]: 5\n",
    "\n",
    "this is the output. argv[0] is the program file name, all other are arguments are the rest"
   ]
  },
  {
   "cell_type": "markdown",
   "metadata": {},
   "source": [
    "What if you want to UNIT TEST and test a bunch of different values?\n",
    "\n",
    "We don't have to use 12345, we can use python to create a big list and push it as a command line argument.\n",
    "He create a UNIT test whitch I now copy below"
   ]
  },
  {
   "cell_type": "code",
   "execution_count": 31,
   "metadata": {},
   "outputs": [
    {
     "data": {
      "text/plain": [
       "'\\nWhy is a permutations UNIT TEST useful?\\nIf our program does something specific with numbers\\n we want to check that every single combination of orders of those numbers\\n is a valid input / doesn\\'t crash the program\\n\\nIf we want to test strings, we can do that too, every possible order of \\n everything that you put in ((just becareful that its \\'letter\\' for CHAR\\n and \"letter/word\" for STRING in C/C++))\\n\\nA to I, ASCII to INTEGER\\n \\necho \"\" > output.txt    <-- says nothing creates new text file\\ncat permuations | while read line       <-- cat used to display the contents, | pipe to function \"while read line\"\\n basically for every line that\\'s given us by the CAT program, it will save it as\\n a variable called \"line\", with the while loop we call the program on variables called line\\n and then we >> add/append the outputs into a file called output.txt\\n\\nIt should be 120 outputs written into the file, for me it doesnt work because the bash doesnt work\\n'"
      ]
     },
     "execution_count": 31,
     "metadata": {},
     "output_type": "execute_result"
    }
   ],
   "source": [
    "\"\"\"\n",
    "Create a list of permutations and save to a file for use as \n",
    "arguments to a program in BASH\n",
    "\"\"\"\n",
    "import itertools as it\n",
    "\n",
    "perms = it.permutations(['A', '+', 3, 4, 5])\n",
    "with open('permutations.txt', 'w') as f:\n",
    "    for item in perms:\n",
    "        s = str(item)\n",
    "        s = s.replace('(', '')\n",
    "        s = s.replace(')', '')\n",
    "        s = s.replace(',', '')\n",
    "        #s = s.replace(' ', '')\n",
    "        f.write(s)\n",
    "        f.write(\"\\n\")\n",
    "\n",
    "\n",
    "\"\"\"\n",
    "Why is a permutations UNIT TEST useful?\n",
    "If our program does something specific with numbers\n",
    " we want to check that every single combination of orders of those numbers\n",
    " is a valid input / doesn't crash the program\n",
    "\n",
    "If we want to test strings, we can do that too, every possible order of \n",
    " everything that you put in ((just becareful that its 'letter' for CHAR\n",
    " and \"letter/word\" for STRING in C/C++))\n",
    "\n",
    "A to I, ASCII to INTEGER\n",
    " \n",
    "echo \"\" > output.txt    <-- says nothing creates new text file\n",
    "cat permuations | while read line       <-- cat used to display the contents, | pipe to function \"while read line\"\n",
    " basically for every line that's given us by the CAT program, it will save it as\n",
    " a variable called \"line\", with the while loop we call the program on variables called line\n",
    " and then we >> add/append the outputs into a file called output.txt\n",
    "\n",
    "It should be 120 outputs written into the file, for me it doesnt work because the bash doesnt work\n",
    "\"\"\""
   ]
  },
  {
   "cell_type": "code",
   "execution_count": 36,
   "metadata": {},
   "outputs": [
    {
     "name": "stdout",
     "output_type": "stream",
     "text": [
      "C_demonstration.ipynb\n",
      "c_program.c\n",
      "c_program.exe\n",
      "c_program2.c\n",
      "c_program2.exe\n",
      "c_program3.c\n",
      "hello.c\n",
      "hello.exe\n",
      "output.txt\n",
      "permutations.txt\n",
      "C_demonstration.ipynb\n",
      "c_program.c\n",
      "c_program.exe\n",
      "c_program2.c\n",
      "c_program2.exe\n",
      "c_program3.c\n",
      "hello.c\n",
      "hello.exe\n",
      "output.txt\n",
      "permutations.txt\n",
      "C_demonstration.ipynb\n",
      "c_program.c\n",
      "c_program.exe\n",
      "c_program2.c\n",
      "c_program2.exe\n",
      "c_program3.c\n",
      "hello.c\n",
      "hello.exe\n",
      "output.txt\n",
      "permutations.txt\n",
      "C_demonstration.ipynb\n",
      "c_program.c\n",
      "c_program.exe\n",
      "c_program2.c\n",
      "c_program2.exe\n",
      "c_program3.c\n",
      "hello.c\n",
      "hello.exe\n",
      "output.txt\n",
      "permutations.txt\n",
      "C_demonstration.ipynb\n",
      "c_program.c\n",
      "c_program.exe\n",
      "c_program2.c\n",
      "c_program2.exe\n",
      "c_program3.c\n",
      "hello.c\n",
      "hello.exe\n",
      "output.txt\n",
      "permutations.txt\n",
      "C_demonstration.ipynb\n",
      "c_program.c\n",
      "c_program.exe\n",
      "c_program2.c\n",
      "c_program2.exe\n",
      "c_program3.c\n",
      "hello.c\n",
      "hello.exe\n",
      "output.txt\n",
      "permutations.txt\n",
      "C_demonstration.ipynb\n",
      "c_program.c\n",
      "c_program.exe\n",
      "c_program2.c\n",
      "c_program2.exe\n",
      "c_program3.c\n",
      "hello.c\n",
      "hello.exe\n",
      "output.txt\n",
      "permutations.txt\n",
      "C_demonstration.ipynb\n",
      "c_program.c\n",
      "c_program.exe\n",
      "c_program2.c\n",
      "c_program2.exe\n",
      "c_program3.c\n",
      "hello.c\n",
      "hello.exe\n",
      "output.txt\n",
      "permutations.txt\n",
      "C_demonstration.ipynb\n",
      "c_program.c\n",
      "c_program.exe\n",
      "c_program2.c\n",
      "c_program2.exe\n",
      "c_program3.c\n",
      "hello.c\n",
      "hello.exe\n",
      "output.txt\n",
      "permutations.txt\n",
      "C_demonstration.ipynb\n",
      "c_program.c\n",
      "c_program.exe\n",
      "c_program2.c\n",
      "c_program2.exe\n",
      "c_program3.c\n",
      "hello.c\n",
      "hello.exe\n",
      "output.txt\n",
      "permutations.txt\n",
      "250 ms ± 41.7 ms per loop (mean ± std. dev. of 10 runs, 1 loop each)\n"
     ]
    }
   ],
   "source": [
    "%%timeit -n 1 -r 10\n",
    "\n",
    "%%bash\n",
    "ls\n",
    "echo \"\" > output.txt\n",
    "cat permutations.txt | while read line\n",
    "do\n",
    "    ./c_program2.exe $line >> output.txt\n",
    "done"
   ]
  },
  {
   "cell_type": "markdown",
   "metadata": {},
   "source": [
    "valgrind  <-- for checking errors or some shit idk "
   ]
  },
  {
   "cell_type": "code",
   "execution_count": 34,
   "metadata": {},
   "outputs": [
    {
     "name": "stdout",
     "output_type": "stream",
     "text": [
      "C_demonstration.ipynb\n",
      "c_program.c\n",
      "c_program.exe\n",
      "c_program2.c\n",
      "c_program2.exe\n",
      "c_program3.c\n",
      "hello.c\n",
      "hello.exe\n",
      "output.txt\n",
      "permutations.txt\n"
     ]
    },
    {
     "ename": "CalledProcessError",
     "evalue": "Command 'b'ls\\necho \"\" > output.txt\\ncat permutations.txt | while read line\\ndo\\n    valgrind ./c_program2.exe $line &>> output.txt\\ndone\\n'' returned non-zero exit status 127.",
     "output_type": "error",
     "traceback": [
      "\u001b[1;31m---------------------------------------------------------------------------\u001b[0m",
      "\u001b[1;31mCalledProcessError\u001b[0m                        Traceback (most recent call last)",
      "Cell \u001b[1;32mIn[34], line 1\u001b[0m\n\u001b[1;32m----> 1\u001b[0m get_ipython()\u001b[38;5;241m.\u001b[39mrun_cell_magic(\u001b[38;5;124m'\u001b[39m\u001b[38;5;124mbash\u001b[39m\u001b[38;5;124m'\u001b[39m, \u001b[38;5;124m'\u001b[39m\u001b[38;5;124m'\u001b[39m, \u001b[38;5;124m'\u001b[39m\u001b[38;5;124mls\u001b[39m\u001b[38;5;130;01m\\n\u001b[39;00m\u001b[38;5;124mecho \u001b[39m\u001b[38;5;124m\"\u001b[39m\u001b[38;5;124m\"\u001b[39m\u001b[38;5;124m > output.txt\u001b[39m\u001b[38;5;130;01m\\n\u001b[39;00m\u001b[38;5;124mcat permutations.txt | while read line\u001b[39m\u001b[38;5;130;01m\\n\u001b[39;00m\u001b[38;5;124mdo\u001b[39m\u001b[38;5;130;01m\\n\u001b[39;00m\u001b[38;5;124m    valgrind ./c_program2.exe $line &>> output.txt\u001b[39m\u001b[38;5;130;01m\\n\u001b[39;00m\u001b[38;5;124mdone\u001b[39m\u001b[38;5;130;01m\\n\u001b[39;00m\u001b[38;5;124m'\u001b[39m)\n",
      "File \u001b[1;32mc:\\Programming\\anaconda3\\Lib\\site-packages\\IPython\\core\\interactiveshell.py:2541\u001b[0m, in \u001b[0;36mInteractiveShell.run_cell_magic\u001b[1;34m(self, magic_name, line, cell)\u001b[0m\n\u001b[0;32m   2539\u001b[0m \u001b[38;5;28;01mwith\u001b[39;00m \u001b[38;5;28mself\u001b[39m\u001b[38;5;241m.\u001b[39mbuiltin_trap:\n\u001b[0;32m   2540\u001b[0m     args \u001b[38;5;241m=\u001b[39m (magic_arg_s, cell)\n\u001b[1;32m-> 2541\u001b[0m     result \u001b[38;5;241m=\u001b[39m fn(\u001b[38;5;241m*\u001b[39margs, \u001b[38;5;241m*\u001b[39m\u001b[38;5;241m*\u001b[39mkwargs)\n\u001b[0;32m   2543\u001b[0m \u001b[38;5;66;03m# The code below prevents the output from being displayed\u001b[39;00m\n\u001b[0;32m   2544\u001b[0m \u001b[38;5;66;03m# when using magics with decorator @output_can_be_silenced\u001b[39;00m\n\u001b[0;32m   2545\u001b[0m \u001b[38;5;66;03m# when the last Python token in the expression is a ';'.\u001b[39;00m\n\u001b[0;32m   2546\u001b[0m \u001b[38;5;28;01mif\u001b[39;00m \u001b[38;5;28mgetattr\u001b[39m(fn, magic\u001b[38;5;241m.\u001b[39mMAGIC_OUTPUT_CAN_BE_SILENCED, \u001b[38;5;28;01mFalse\u001b[39;00m):\n",
      "File \u001b[1;32mc:\\Programming\\anaconda3\\Lib\\site-packages\\IPython\\core\\magics\\script.py:155\u001b[0m, in \u001b[0;36mScriptMagics._make_script_magic.<locals>.named_script_magic\u001b[1;34m(line, cell)\u001b[0m\n\u001b[0;32m    153\u001b[0m \u001b[38;5;28;01melse\u001b[39;00m:\n\u001b[0;32m    154\u001b[0m     line \u001b[38;5;241m=\u001b[39m script\n\u001b[1;32m--> 155\u001b[0m \u001b[38;5;28;01mreturn\u001b[39;00m \u001b[38;5;28mself\u001b[39m\u001b[38;5;241m.\u001b[39mshebang(line, cell)\n",
      "File \u001b[1;32mc:\\Programming\\anaconda3\\Lib\\site-packages\\IPython\\core\\magics\\script.py:315\u001b[0m, in \u001b[0;36mScriptMagics.shebang\u001b[1;34m(self, line, cell)\u001b[0m\n\u001b[0;32m    310\u001b[0m \u001b[38;5;28;01mif\u001b[39;00m args\u001b[38;5;241m.\u001b[39mraise_error \u001b[38;5;129;01mand\u001b[39;00m p\u001b[38;5;241m.\u001b[39mreturncode \u001b[38;5;241m!=\u001b[39m \u001b[38;5;241m0\u001b[39m:\n\u001b[0;32m    311\u001b[0m     \u001b[38;5;66;03m# If we get here and p.returncode is still None, we must have\u001b[39;00m\n\u001b[0;32m    312\u001b[0m     \u001b[38;5;66;03m# killed it but not yet seen its return code. We don't wait for it,\u001b[39;00m\n\u001b[0;32m    313\u001b[0m     \u001b[38;5;66;03m# in case it's stuck in uninterruptible sleep. -9 = SIGKILL\u001b[39;00m\n\u001b[0;32m    314\u001b[0m     rc \u001b[38;5;241m=\u001b[39m p\u001b[38;5;241m.\u001b[39mreturncode \u001b[38;5;129;01mor\u001b[39;00m \u001b[38;5;241m-\u001b[39m\u001b[38;5;241m9\u001b[39m\n\u001b[1;32m--> 315\u001b[0m     \u001b[38;5;28;01mraise\u001b[39;00m CalledProcessError(rc, cell)\n",
      "\u001b[1;31mCalledProcessError\u001b[0m: Command 'b'ls\\necho \"\" > output.txt\\ncat permutations.txt | while read line\\ndo\\n    valgrind ./c_program2.exe $line &>> output.txt\\ndone\\n'' returned non-zero exit status 127."
     ]
    }
   ],
   "source": [
    "%%bash\n",
    "ls\n",
    "echo \"\" > output.txt\n",
    "cat permutations.txt | while read line\n",
    "do\n",
    "    valgrind ./c_program2.exe $line &>> output.txt\n",
    "done"
   ]
  },
  {
   "cell_type": "markdown",
   "metadata": {},
   "source": [
    "Testing for myself trying to fix it"
   ]
  },
  {
   "cell_type": "code",
   "execution_count": 2,
   "metadata": {},
   "outputs": [
    {
     "name": "stdout",
     "output_type": "stream",
     "text": [
      "Writing hello.c\n"
     ]
    }
   ],
   "source": [
    "%%file hello.c\n",
    "\n",
    "#include <stdio.h>\n",
    "\n",
    "int main() {\n",
    "    printf(\"Hello, World!\\n\");\n",
    "    return 0;\n",
    "}"
   ]
  },
  {
   "cell_type": "code",
   "execution_count": 5,
   "metadata": {},
   "outputs": [
    {
     "ename": "SyntaxError",
     "evalue": "invalid syntax (1868245292.py, line 6)",
     "output_type": "error",
     "traceback": [
      "\u001b[1;36m  Cell \u001b[1;32mIn[5], line 6\u001b[1;36m\u001b[0m\n\u001b[1;33m    ./hello\u001b[0m\n\u001b[1;37m    ^\u001b[0m\n\u001b[1;31mSyntaxError\u001b[0m\u001b[1;31m:\u001b[0m invalid syntax\n"
     ]
    }
   ],
   "source": [
    "# Compile the C program\n",
    "!gcc -o hello hello.c\n",
    "\n",
    "# Run the compiled program\n",
    "%%bash\n",
    "./hello\n"
   ]
  },
  {
   "cell_type": "code",
   "execution_count": 6,
   "metadata": {},
   "outputs": [],
   "source": [
    "!gcc -o hello hello.c"
   ]
  },
  {
   "cell_type": "code",
   "execution_count": 8,
   "metadata": {},
   "outputs": [
    {
     "name": "stderr",
     "output_type": "stream",
     "text": [
      "-bash: line 1: gcc: command not found\n"
     ]
    },
    {
     "ename": "CalledProcessError",
     "evalue": "Command 'b'gcc hello.c -o hello2\\n'' returned non-zero exit status 127.",
     "output_type": "error",
     "traceback": [
      "\u001b[1;31m---------------------------------------------------------------------------\u001b[0m",
      "\u001b[1;31mCalledProcessError\u001b[0m                        Traceback (most recent call last)",
      "Cell \u001b[1;32mIn[8], line 1\u001b[0m\n\u001b[1;32m----> 1\u001b[0m get_ipython()\u001b[38;5;241m.\u001b[39mrun_cell_magic(\u001b[38;5;124m'\u001b[39m\u001b[38;5;124mbash\u001b[39m\u001b[38;5;124m'\u001b[39m, \u001b[38;5;124m'\u001b[39m\u001b[38;5;124m'\u001b[39m, \u001b[38;5;124m'\u001b[39m\u001b[38;5;124mgcc hello.c -o hello2\u001b[39m\u001b[38;5;130;01m\\n\u001b[39;00m\u001b[38;5;124m'\u001b[39m)\n",
      "File \u001b[1;32mc:\\Programming\\anaconda3\\Lib\\site-packages\\IPython\\core\\interactiveshell.py:2541\u001b[0m, in \u001b[0;36mInteractiveShell.run_cell_magic\u001b[1;34m(self, magic_name, line, cell)\u001b[0m\n\u001b[0;32m   2539\u001b[0m \u001b[38;5;28;01mwith\u001b[39;00m \u001b[38;5;28mself\u001b[39m\u001b[38;5;241m.\u001b[39mbuiltin_trap:\n\u001b[0;32m   2540\u001b[0m     args \u001b[38;5;241m=\u001b[39m (magic_arg_s, cell)\n\u001b[1;32m-> 2541\u001b[0m     result \u001b[38;5;241m=\u001b[39m fn(\u001b[38;5;241m*\u001b[39margs, \u001b[38;5;241m*\u001b[39m\u001b[38;5;241m*\u001b[39mkwargs)\n\u001b[0;32m   2543\u001b[0m \u001b[38;5;66;03m# The code below prevents the output from being displayed\u001b[39;00m\n\u001b[0;32m   2544\u001b[0m \u001b[38;5;66;03m# when using magics with decorator @output_can_be_silenced\u001b[39;00m\n\u001b[0;32m   2545\u001b[0m \u001b[38;5;66;03m# when the last Python token in the expression is a ';'.\u001b[39;00m\n\u001b[0;32m   2546\u001b[0m \u001b[38;5;28;01mif\u001b[39;00m \u001b[38;5;28mgetattr\u001b[39m(fn, magic\u001b[38;5;241m.\u001b[39mMAGIC_OUTPUT_CAN_BE_SILENCED, \u001b[38;5;28;01mFalse\u001b[39;00m):\n",
      "File \u001b[1;32mc:\\Programming\\anaconda3\\Lib\\site-packages\\IPython\\core\\magics\\script.py:155\u001b[0m, in \u001b[0;36mScriptMagics._make_script_magic.<locals>.named_script_magic\u001b[1;34m(line, cell)\u001b[0m\n\u001b[0;32m    153\u001b[0m \u001b[38;5;28;01melse\u001b[39;00m:\n\u001b[0;32m    154\u001b[0m     line \u001b[38;5;241m=\u001b[39m script\n\u001b[1;32m--> 155\u001b[0m \u001b[38;5;28;01mreturn\u001b[39;00m \u001b[38;5;28mself\u001b[39m\u001b[38;5;241m.\u001b[39mshebang(line, cell)\n",
      "File \u001b[1;32mc:\\Programming\\anaconda3\\Lib\\site-packages\\IPython\\core\\magics\\script.py:315\u001b[0m, in \u001b[0;36mScriptMagics.shebang\u001b[1;34m(self, line, cell)\u001b[0m\n\u001b[0;32m    310\u001b[0m \u001b[38;5;28;01mif\u001b[39;00m args\u001b[38;5;241m.\u001b[39mraise_error \u001b[38;5;129;01mand\u001b[39;00m p\u001b[38;5;241m.\u001b[39mreturncode \u001b[38;5;241m!=\u001b[39m \u001b[38;5;241m0\u001b[39m:\n\u001b[0;32m    311\u001b[0m     \u001b[38;5;66;03m# If we get here and p.returncode is still None, we must have\u001b[39;00m\n\u001b[0;32m    312\u001b[0m     \u001b[38;5;66;03m# killed it but not yet seen its return code. We don't wait for it,\u001b[39;00m\n\u001b[0;32m    313\u001b[0m     \u001b[38;5;66;03m# in case it's stuck in uninterruptible sleep. -9 = SIGKILL\u001b[39;00m\n\u001b[0;32m    314\u001b[0m     rc \u001b[38;5;241m=\u001b[39m p\u001b[38;5;241m.\u001b[39mreturncode \u001b[38;5;129;01mor\u001b[39;00m \u001b[38;5;241m-\u001b[39m\u001b[38;5;241m9\u001b[39m\n\u001b[1;32m--> 315\u001b[0m     \u001b[38;5;28;01mraise\u001b[39;00m CalledProcessError(rc, cell)\n",
      "\u001b[1;31mCalledProcessError\u001b[0m: Command 'b'gcc hello.c -o hello2\\n'' returned non-zero exit status 127."
     ]
    }
   ],
   "source": [
    "%%bash\n",
    "gcc hello.c -o hello2"
   ]
  },
  {
   "cell_type": "code",
   "execution_count": 10,
   "metadata": {},
   "outputs": [
    {
     "name": "stdout",
     "output_type": "stream",
     "text": [
      "Hello, World!\n"
     ]
    }
   ],
   "source": [
    "#%%bash\n",
    "!.\\hello"
   ]
  },
  {
   "cell_type": "code",
   "execution_count": 21,
   "metadata": {},
   "outputs": [],
   "source": [
    "%%bash\n",
    "chmod +x c_program2.exe"
   ]
  },
  {
   "cell_type": "code",
   "execution_count": null,
   "metadata": {},
   "outputs": [],
   "source": []
  }
 ],
 "metadata": {
  "kernelspec": {
   "display_name": "base",
   "language": "python",
   "name": "python3"
  },
  "language_info": {
   "codemirror_mode": {
    "name": "ipython",
    "version": 3
   },
   "file_extension": ".py",
   "mimetype": "text/x-python",
   "name": "python",
   "nbconvert_exporter": "python",
   "pygments_lexer": "ipython3",
   "version": "3.12.4"
  }
 },
 "nbformat": 4,
 "nbformat_minor": 2
}
