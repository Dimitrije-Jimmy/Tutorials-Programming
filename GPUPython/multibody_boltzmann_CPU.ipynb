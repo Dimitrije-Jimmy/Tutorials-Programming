{
 "cells": [
  {
   "cell_type": "markdown",
   "metadata": {},
   "source": [
    "This is the version without GPU utilisation"
   ]
  },
  {
   "cell_type": "code",
   "execution_count": 19,
   "metadata": {
    "metadata": {}
   },
   "outputs": [
    {
     "name": "stdout",
     "output_type": "stream",
     "text": [
      "Note: you may need to restart the kernel to use updated packages.\n"
     ]
    },
    {
     "name": "stderr",
     "output_type": "stream",
     "text": [
      "ERROR: Could not find a version that satisfies the requirement itertools (from versions: none)\n",
      "ERROR: No matching distribution found for itertools\n"
     ]
    }
   ],
   "source": [
    "%pip install itertools"
   ]
  },
  {
   "cell_type": "code",
   "execution_count": 20,
   "metadata": {
    "metadata": {}
   },
   "outputs": [],
   "source": [
    "import numpy as np\n",
    "import matplotlib.pyplot as plt\n",
    "import matplotlib\n",
    "from matplotlib import animation\n",
    "from matplotlib.animation import PillowWriter\n",
    "import scienceplots\n",
    "plt.style.use(['science', 'notebook'])\n",
    "from itertools import combinations"
   ]
  },
  {
   "cell_type": "markdown",
   "metadata": {},
   "source": [
    "Define number of particles and get random positions (between 0 and 1) for each particle\n"
   ]
  },
  {
   "cell_type": "code",
   "execution_count": 21,
   "metadata": {
    "metadata": {}
   },
   "outputs": [],
   "source": [
    "n_particles = 16\n",
    "r = np.random.random((2, n_particles))"
   ]
  },
  {
   "cell_type": "code",
   "execution_count": 22,
   "metadata": {
    "metadata": {}
   },
   "outputs": [
    {
     "data": {
      "text/plain": [
       "array([[0.56996805, 0.17803008, 0.29973539, 0.54160525, 0.78901478,\n",
       "        0.48756554, 0.95434969, 0.52899776, 0.68155998, 0.40552214,\n",
       "        0.33627888, 0.36415484, 0.88137916, 0.21134295, 0.30022297,\n",
       "        0.47983215],\n",
       "       [0.95848312, 0.22334151, 0.7096434 , 0.70635207, 0.57507892,\n",
       "        0.52658233, 0.13421468, 0.23550602, 0.07169598, 0.5334667 ,\n",
       "        0.52710112, 0.66416779, 0.60711899, 0.45460316, 0.78015271,\n",
       "        0.77275134]])"
      ]
     },
     "execution_count": 22,
     "metadata": {},
     "output_type": "execute_result"
    }
   ],
   "source": [
    "r # array can only live on CPU"
   ]
  },
  {
   "cell_type": "code",
   "execution_count": 23,
   "metadata": {
    "metadata": {}
   },
   "outputs": [],
   "source": [
    "n_particles = 16\n",
    "# uniform distribution of particles in square r \\in [0, 1]\n",
    "r = np.random.random((2, n_particles)) # here we send it to GPU\n",
    "\n",
    "# Color particles the start on either side\n",
    "ixr = r[0]>0.5 #right\n",
    "ixl = r[0]<= 0.5 #left"
   ]
  },
  {
   "cell_type": "markdown",
   "metadata": {},
   "source": [
    "Give IDs to each particle (this will come in handy later)"
   ]
  },
  {
   "cell_type": "code",
   "execution_count": 24,
   "metadata": {
    "metadata": {}
   },
   "outputs": [],
   "source": [
    "ids = np.arange(n_particles) # analogous to np.arange()"
   ]
  },
  {
   "cell_type": "markdown",
   "metadata": {},
   "source": [
    "Plot initial configuration of particles"
   ]
  },
  {
   "cell_type": "code",
   "execution_count": 25,
   "metadata": {
    "metadata": {}
   },
   "outputs": [
    {
     "data": {
      "text/plain": [
       "<matplotlib.collections.PathCollection at 0x2353e8bdcd0>"
      ]
     },
     "execution_count": 25,
     "metadata": {},
     "output_type": "execute_result"
    },
    {
     "data": {
      "image/png": "[encoded data removed]",
      "text/plain": [
       "<Figure size 500x500 with 1 Axes>"
      ]
     },
     "metadata": {},
     "output_type": "display_data"
    }
   ],
   "source": [
    "plt.figure(figsize=(5,5))\n",
    "plt.scatter(r[0][ixr], r[1][ixr], color='r', s=6)\n",
    "plt.scatter(r[0][ixl], r[1][ixl], color='b', s=6)\n",
    "# here in torch we need to switch to CPU if we want to plot"
   ]
  },
  {
   "cell_type": "markdown",
   "metadata": {},
   "source": [
    "Obtain the initial velocities in the gas. We'll make the particles starting on the RHS move to the left at 500m/s and on the vice versa.\n",
    "* **Note**: We're using the assumption that particles in a gas move at approximately 500m/s, thanks google."
   ]
  },
  {
   "cell_type": "code",
   "execution_count": 26,
   "metadata": {
    "metadata": {}
   },
   "outputs": [],
   "source": [
    "v = np.zeros((2, n_particles))\n",
    "v.shape\n",
    "# v[0] - the X velocity of all particles\n",
    "v[0][ixr] = -500  # desni grejo v levo\n",
    "v[0][ixl] = 500  # levi grejo v desno (it's a mask for the direction)\n",
    "# every pytorch function is analogous to numpy, really handy\n"
   ]
  },
  {
   "cell_type": "markdown",
   "metadata": {},
   "source": [
    "To run this simulation, we need to determine when two particles collid, and what the resulting final velocities will be.\n",
    "\n",
    "# Part 1: Distance Between all Pairs\n",
    "\n",
    "* To determine if two particles collide, we need to find the distance between **all pairs** of particles. If the distance is less than 2 times the radius of each particle, they collide. If there are *n* particles, there are $n(n-1)/2$ pairs (combinatorics). To make this easier, we'll get pairs of particle IDs."
   ]
  },
  {
   "cell_type": "code",
   "execution_count": 27,
   "metadata": {
    "metadata": {}
   },
   "outputs": [
    {
     "data": {
      "text/plain": [
       "array([[ 0,  1],\n",
       "       [ 0,  2],\n",
       "       [ 0,  3],\n",
       "       [ 0,  4],\n",
       "       [ 0,  5],\n",
       "       [ 0,  6],\n",
       "       [ 0,  7],\n",
       "       [ 0,  8],\n",
       "       [ 0,  9],\n",
       "       [ 0, 10],\n",
       "       [ 0, 11],\n",
       "       [ 0, 12],\n",
       "       [ 0, 13],\n",
       "       [ 0, 14],\n",
       "       [ 0, 15],\n",
       "       [ 1,  2],\n",
       "       [ 1,  3],\n",
       "       [ 1,  4],\n",
       "       [ 1,  5],\n",
       "       [ 1,  6],\n",
       "       [ 1,  7],\n",
       "       [ 1,  8],\n",
       "       [ 1,  9],\n",
       "       [ 1, 10],\n",
       "       [ 1, 11],\n",
       "       [ 1, 12],\n",
       "       [ 1, 13],\n",
       "       [ 1, 14],\n",
       "       [ 1, 15],\n",
       "       [ 2,  3],\n",
       "       [ 2,  4],\n",
       "       [ 2,  5],\n",
       "       [ 2,  6],\n",
       "       [ 2,  7],\n",
       "       [ 2,  8],\n",
       "       [ 2,  9],\n",
       "       [ 2, 10],\n",
       "       [ 2, 11],\n",
       "       [ 2, 12],\n",
       "       [ 2, 13],\n",
       "       [ 2, 14],\n",
       "       [ 2, 15],\n",
       "       [ 3,  4],\n",
       "       [ 3,  5],\n",
       "       [ 3,  6],\n",
       "       [ 3,  7],\n",
       "       [ 3,  8],\n",
       "       [ 3,  9],\n",
       "       [ 3, 10],\n",
       "       [ 3, 11],\n",
       "       [ 3, 12],\n",
       "       [ 3, 13],\n",
       "       [ 3, 14],\n",
       "       [ 3, 15],\n",
       "       [ 4,  5],\n",
       "       [ 4,  6],\n",
       "       [ 4,  7],\n",
       "       [ 4,  8],\n",
       "       [ 4,  9],\n",
       "       [ 4, 10],\n",
       "       [ 4, 11],\n",
       "       [ 4, 12],\n",
       "       [ 4, 13],\n",
       "       [ 4, 14],\n",
       "       [ 4, 15],\n",
       "       [ 5,  6],\n",
       "       [ 5,  7],\n",
       "       [ 5,  8],\n",
       "       [ 5,  9],\n",
       "       [ 5, 10],\n",
       "       [ 5, 11],\n",
       "       [ 5, 12],\n",
       "       [ 5, 13],\n",
       "       [ 5, 14],\n",
       "       [ 5, 15],\n",
       "       [ 6,  7],\n",
       "       [ 6,  8],\n",
       "       [ 6,  9],\n",
       "       [ 6, 10],\n",
       "       [ 6, 11],\n",
       "       [ 6, 12],\n",
       "       [ 6, 13],\n",
       "       [ 6, 14],\n",
       "       [ 6, 15],\n",
       "       [ 7,  8],\n",
       "       [ 7,  9],\n",
       "       [ 7, 10],\n",
       "       [ 7, 11],\n",
       "       [ 7, 12],\n",
       "       [ 7, 13],\n",
       "       [ 7, 14],\n",
       "       [ 7, 15],\n",
       "       [ 8,  9],\n",
       "       [ 8, 10],\n",
       "       [ 8, 11],\n",
       "       [ 8, 12],\n",
       "       [ 8, 13],\n",
       "       [ 8, 14],\n",
       "       [ 8, 15],\n",
       "       [ 9, 10],\n",
       "       [ 9, 11],\n",
       "       [ 9, 12],\n",
       "       [ 9, 13],\n",
       "       [ 9, 14],\n",
       "       [ 9, 15],\n",
       "       [10, 11],\n",
       "       [10, 12],\n",
       "       [10, 13],\n",
       "       [10, 14],\n",
       "       [10, 15],\n",
       "       [11, 12],\n",
       "       [11, 13],\n",
       "       [11, 14],\n",
       "       [11, 15],\n",
       "       [12, 13],\n",
       "       [12, 14],\n",
       "       [12, 15],\n",
       "       [13, 14],\n",
       "       [13, 15],\n",
       "       [14, 15]])"
      ]
     },
     "execution_count": 27,
     "metadata": {},
     "output_type": "execute_result"
    }
   ],
   "source": [
    "ids_pairs = np.asarray(list(combinations(ids, 2)))\n",
    "ids_pairs  # 120 pairs for 16 particles, this is why it gets expensive"
   ]
  },
  {
   "cell_type": "code",
   "execution_count": 28,
   "metadata": {
    "metadata": {}
   },
   "outputs": [
    {
     "data": {
      "text/plain": [
       "array([[0.8832749 , 0.83180556],\n",
       "       [0.8832749 , 0.2855218 ],\n",
       "       [0.8832749 , 0.30466029],\n",
       "       [0.8832749 , 0.69277974],\n",
       "       [0.8832749 , 0.7506649 ],\n",
       "       [0.8832749 , 0.22884157],\n",
       "       [0.8832749 , 0.35017182],\n",
       "       [0.8832749 , 0.58039311],\n",
       "       [0.8832749 , 0.03914189],\n",
       "       [0.8832749 , 0.06494611],\n",
       "       [0.8832749 , 0.68069417],\n",
       "       [0.8832749 , 0.86988494],\n",
       "       [0.8832749 , 0.22903396],\n",
       "       [0.8832749 , 0.12063634],\n",
       "       [0.8832749 , 0.20294438],\n",
       "       [0.83180556, 0.2855218 ],\n",
       "       [0.83180556, 0.30466029],\n",
       "       [0.83180556, 0.69277974],\n",
       "       [0.83180556, 0.7506649 ],\n",
       "       [0.83180556, 0.22884157],\n",
       "       [0.83180556, 0.35017182],\n",
       "       [0.83180556, 0.58039311],\n",
       "       [0.83180556, 0.03914189],\n",
       "       [0.83180556, 0.06494611],\n",
       "       [0.83180556, 0.68069417],\n",
       "       [0.83180556, 0.86988494],\n",
       "       [0.83180556, 0.22903396],\n",
       "       [0.83180556, 0.12063634],\n",
       "       [0.83180556, 0.20294438],\n",
       "       [0.2855218 , 0.30466029],\n",
       "       [0.2855218 , 0.69277974],\n",
       "       [0.2855218 , 0.7506649 ],\n",
       "       [0.2855218 , 0.22884157],\n",
       "       [0.2855218 , 0.35017182],\n",
       "       [0.2855218 , 0.58039311],\n",
       "       [0.2855218 , 0.03914189],\n",
       "       [0.2855218 , 0.06494611],\n",
       "       [0.2855218 , 0.68069417],\n",
       "       [0.2855218 , 0.86988494],\n",
       "       [0.2855218 , 0.22903396],\n",
       "       [0.2855218 , 0.12063634],\n",
       "       [0.2855218 , 0.20294438],\n",
       "       [0.30466029, 0.69277974],\n",
       "       [0.30466029, 0.7506649 ],\n",
       "       [0.30466029, 0.22884157],\n",
       "       [0.30466029, 0.35017182],\n",
       "       [0.30466029, 0.58039311],\n",
       "       [0.30466029, 0.03914189],\n",
       "       [0.30466029, 0.06494611],\n",
       "       [0.30466029, 0.68069417],\n",
       "       [0.30466029, 0.86988494],\n",
       "       [0.30466029, 0.22903396],\n",
       "       [0.30466029, 0.12063634],\n",
       "       [0.30466029, 0.20294438],\n",
       "       [0.69277974, 0.7506649 ],\n",
       "       [0.69277974, 0.22884157],\n",
       "       [0.69277974, 0.35017182],\n",
       "       [0.69277974, 0.58039311],\n",
       "       [0.69277974, 0.03914189],\n",
       "       [0.69277974, 0.06494611],\n",
       "       [0.69277974, 0.68069417],\n",
       "       [0.69277974, 0.86988494],\n",
       "       [0.69277974, 0.22903396],\n",
       "       [0.69277974, 0.12063634],\n",
       "       [0.69277974, 0.20294438],\n",
       "       [0.7506649 , 0.22884157],\n",
       "       [0.7506649 , 0.35017182],\n",
       "       [0.7506649 , 0.58039311],\n",
       "       [0.7506649 , 0.03914189],\n",
       "       [0.7506649 , 0.06494611],\n",
       "       [0.7506649 , 0.68069417],\n",
       "       [0.7506649 , 0.86988494],\n",
       "       [0.7506649 , 0.22903396],\n",
       "       [0.7506649 , 0.12063634],\n",
       "       [0.7506649 , 0.20294438],\n",
       "       [0.22884157, 0.35017182],\n",
       "       [0.22884157, 0.58039311],\n",
       "       [0.22884157, 0.03914189],\n",
       "       [0.22884157, 0.06494611],\n",
       "       [0.22884157, 0.68069417],\n",
       "       [0.22884157, 0.86988494],\n",
       "       [0.22884157, 0.22903396],\n",
       "       [0.22884157, 0.12063634],\n",
       "       [0.22884157, 0.20294438],\n",
       "       [0.35017182, 0.58039311],\n",
       "       [0.35017182, 0.03914189],\n",
       "       [0.35017182, 0.06494611],\n",
       "       [0.35017182, 0.68069417],\n",
       "       [0.35017182, 0.86988494],\n",
       "       [0.35017182, 0.22903396],\n",
       "       [0.35017182, 0.12063634],\n",
       "       [0.35017182, 0.20294438],\n",
       "       [0.58039311, 0.03914189],\n",
       "       [0.58039311, 0.06494611],\n",
       "       [0.58039311, 0.68069417],\n",
       "       [0.58039311, 0.86988494],\n",
       "       [0.58039311, 0.22903396],\n",
       "       [0.58039311, 0.12063634],\n",
       "       [0.58039311, 0.20294438],\n",
       "       [0.03914189, 0.06494611],\n",
       "       [0.03914189, 0.68069417],\n",
       "       [0.03914189, 0.86988494],\n",
       "       [0.03914189, 0.22903396],\n",
       "       [0.03914189, 0.12063634],\n",
       "       [0.03914189, 0.20294438],\n",
       "       [0.06494611, 0.68069417],\n",
       "       [0.06494611, 0.86988494],\n",
       "       [0.06494611, 0.22903396],\n",
       "       [0.06494611, 0.12063634],\n",
       "       [0.06494611, 0.20294438],\n",
       "       [0.68069417, 0.86988494],\n",
       "       [0.68069417, 0.22903396],\n",
       "       [0.68069417, 0.12063634],\n",
       "       [0.68069417, 0.20294438],\n",
       "       [0.86988494, 0.22903396],\n",
       "       [0.86988494, 0.12063634],\n",
       "       [0.86988494, 0.20294438],\n",
       "       [0.22903396, 0.12063634],\n",
       "       [0.22903396, 0.20294438],\n",
       "       [0.12063634, 0.20294438]])"
      ]
     },
     "execution_count": 28,
     "metadata": {},
     "output_type": "execute_result"
    }
   ],
   "source": [
    "x_pairs = np.asarray(list(combinations(r[0], 2)))\n",
    "x_pairs"
   ]
  },
  {
   "cell_type": "markdown",
   "metadata": {},
   "source": [
    "* Then take the difference to get $\\Delta x_{ij}$ of all pairs"
   ]
  },
  {
   "cell_type": "code",
   "execution_count": 29,
   "metadata": {
    "metadata": {}
   },
   "outputs": [
    {
     "data": {
      "text/plain": [
       "array([-5.14693408e-02, -5.97753099e-01, -5.78614603e-01, -1.90495153e-01,\n",
       "       -1.32609993e-01, -6.54433327e-01, -5.33103073e-01, -3.02881790e-01,\n",
       "       -8.44133005e-01, -8.18328787e-01, -2.02580731e-01, -1.33899604e-02,\n",
       "       -6.54240938e-01, -7.62638552e-01, -6.80330512e-01, -5.46283758e-01,\n",
       "       -5.27145262e-01, -1.39025812e-01, -8.11406521e-02, -6.02963986e-01,\n",
       "       -4.81633732e-01, -2.51412449e-01, -7.92663664e-01, -7.66859446e-01,\n",
       "       -1.51111390e-01,  3.80793805e-02, -6.02771598e-01, -7.11169212e-01,\n",
       "       -6.28861171e-01,  1.91384957e-02,  4.07257946e-01,  4.65143106e-01,\n",
       "       -5.66802282e-02,  6.46500258e-02,  2.94871309e-01, -2.46379906e-01,\n",
       "       -2.20575688e-01,  3.95172368e-01,  5.84363138e-01, -5.64878397e-02,\n",
       "       -1.64885454e-01, -8.25774134e-02,  3.88119450e-01,  4.46004610e-01,\n",
       "       -7.58187239e-02,  4.55115300e-02,  2.75732813e-01, -2.65518402e-01,\n",
       "       -2.39714184e-01,  3.76033872e-01,  5.65224643e-01, -7.56263354e-02,\n",
       "       -1.84023949e-01, -1.01715909e-01,  5.78851599e-02, -4.63938174e-01,\n",
       "       -3.42607920e-01, -1.12386637e-01, -6.53637852e-01, -6.27833634e-01,\n",
       "       -1.20855781e-02,  1.77105192e-01, -4.63745786e-01, -5.72143399e-01,\n",
       "       -4.89835359e-01, -5.21823334e-01, -4.00493080e-01, -1.70271797e-01,\n",
       "       -7.11523012e-01, -6.85718794e-01, -6.99707380e-02,  1.19220033e-01,\n",
       "       -5.21630945e-01, -6.30028559e-01, -5.47720519e-01,  1.21330254e-01,\n",
       "        3.51551537e-01, -1.89699678e-01, -1.63895460e-01,  4.51852596e-01,\n",
       "        6.41043367e-01,  1.92388477e-04, -1.08205225e-01, -2.58971852e-02,\n",
       "        2.30221283e-01, -3.11029932e-01, -2.85225714e-01,  3.30522342e-01,\n",
       "        5.19713113e-01, -1.21137865e-01, -2.29535479e-01, -1.47227439e-01,\n",
       "       -5.41251215e-01, -5.15446997e-01,  1.00301059e-01,  2.89491830e-01,\n",
       "       -3.51359149e-01, -4.59756762e-01, -3.77448722e-01,  2.58042177e-02,\n",
       "        6.41552274e-01,  8.30743044e-01,  1.89892066e-01,  8.14944522e-02,\n",
       "        1.63802492e-01,  6.15748056e-01,  8.04938826e-01,  1.64087848e-01,\n",
       "        5.56902345e-02,  1.37998275e-01,  1.89190771e-01, -4.51660207e-01,\n",
       "       -5.60057821e-01, -4.77749781e-01, -6.40850978e-01, -7.49248592e-01,\n",
       "       -6.66940552e-01, -1.08397614e-01, -2.60895737e-02,  8.23080402e-02])"
      ]
     },
     "execution_count": 29,
     "metadata": {},
     "output_type": "execute_result"
    }
   ],
   "source": [
    "dx_pairs = np.diff(x_pairs, axis=1).ravel()\n",
    "# gives distance between all pairs v oklepajih, \n",
    "#  .ravel() unravels it into a 1D array/tensor\n",
    "dx_pairs"
   ]
  },
  {
   "cell_type": "markdown",
   "metadata": {},
   "source": [
    "The total distance is just $d_{ij} = \\sqrt{\\Delta x_{ij}^{2} + \\Delta y_{ij}^2}$. Since there are $n(n-1)/2$ pairs, there will be $n(n-1)/2$ different values of $d_{ij}$."
   ]
  },
  {
   "cell_type": "code",
   "execution_count": 30,
   "metadata": {
    "metadata": {}
   },
   "outputs": [
    {
     "data": {
      "text/plain": [
       "array([0.45553829, 0.6371842 , 0.76005688, 0.19284542, 0.14111831,\n",
       "       0.93189152, 0.61341425, 0.34575124, 0.88510422, 0.83087336,\n",
       "       0.31716832, 0.10574473, 0.65452774, 0.76448908, 0.82587993,\n",
       "       0.59348772, 0.52867731, 0.5022617 , 0.41242256, 0.63875325,\n",
       "       0.89644048, 0.38069534, 0.81429604, 0.82669362, 0.25756499,\n",
       "       0.55881378, 0.76558039, 0.81567818, 0.62905455, 0.27284309,\n",
       "       0.47822808, 0.49606783, 0.44637352, 0.52808542, 0.29976001,\n",
       "       0.25054699, 0.23357468, 0.395863  , 0.66893307, 0.2466004 ,\n",
       "       0.23504584, 0.26095854, 0.65116459, 0.6297399 , 0.18667933,\n",
       "       0.79758372, 0.42703815, 0.34910938, 0.4234    , 0.45089   ,\n",
       "       0.8226571 , 0.51776739, 0.47663773, 0.10465366, 0.09735351,\n",
       "       0.83432922, 0.43834123, 0.22660255, 0.71761499, 0.6514593 ,\n",
       "       0.27432482, 0.19228343, 0.46386787, 0.57815769, 0.69869566,\n",
       "       0.80668085, 0.5330008 , 0.20744447, 0.74414519, 0.69234744,\n",
       "       0.20791098, 0.19408564, 0.52599728, 0.63004762, 0.69019053,\n",
       "       0.97445639, 0.60850324, 0.44022433, 0.54483042, 0.616487  ,\n",
       "       1.00062833, 0.68280381, 0.61978805, 0.19692194, 0.52353303,\n",
       "       0.64900296, 0.53048293, 0.63952046, 0.55634875, 0.30882025,\n",
       "       0.42409068, 0.78558121, 0.55030678, 0.51595623, 0.12662542,\n",
       "       0.3969853 , 0.39761358, 0.47358168, 0.4830618 , 0.12503131,\n",
       "       0.64193391, 0.90984923, 0.34292439, 0.22807135, 0.26010143,\n",
       "       0.62384871, 0.84249181, 0.23143485, 0.10641125, 0.35251634,\n",
       "       0.39692516, 0.52286265, 0.59169324, 0.52773046, 0.64653193,\n",
       "       0.76573782, 0.87935573, 0.13042725, 0.48828963, 0.4231402 ])"
      ]
     },
     "execution_count": 30,
     "metadata": {},
     "output_type": "execute_result"
    }
   ],
   "source": [
    "x_pairs = np.asarray(list(combinations(r[0], 2)))\n",
    "y_pairs = np.asarray(list(combinations(r[1], 2)))\n",
    "dx_pairs = np.diff(x_pairs, axis=1).ravel()\n",
    "dy_pairs = np.diff(y_pairs, axis=1).ravel()\n",
    "d_pairs = np.sqrt(dx_pairs**2 + dy_pairs**2)\n",
    "# these distances correspond to the ids_pairs, we look at these distances\n",
    "#  at each step of the simulation/iteration\n",
    "d_pairs"
   ]
  },
  {
   "cell_type": "markdown",
   "metadata": {},
   "source": [
    "# Part 2: Velocities of a Collision\n",
    "\n",
    "So at each iteration of the simulation, we will evaluate `d_pairs`, and if any of the distances between particles is less than $2r$, then a collision occurs. What is the final velocity of each of the two spheres? In an elastic collision (conservation of energy + momentum + angular momentum), one can show\n",
    "\n",
    "$$\\vec{v}_1^{\\text{new}} = \\vec{v}_1 - \\frac{(\\vec{v}_1 - \\vec{v}_2) \\cdot (\\vec{r}_1 - \\vec{r}_2)}{|\\vec{r}_1 - \\vec{r}_2|^2} (\\vec{r}_1 - \\vec{r}_2)$$\n",
    "$$\\vec{v}_2^{\\text{new}} = \\vec{v}_2 - \\frac{(\\vec{v}_2 - \\vec{v}_1) \\cdot (\\vec{r}_2 - \\vec{r}_1)}{|\\vec{r}_1 - \\vec{r}_2|^2} (\\vec{r}_2 - \\vec{r}_1)$$"
   ]
  },
  {
   "cell_type": "code",
   "execution_count": 31,
   "metadata": {
    "metadata": {}
   },
   "outputs": [
    {
     "data": {
      "text/plain": [
       "array([[ 0, 12],\n",
       "       [ 3, 15],\n",
       "       [ 4,  5],\n",
       "       [10, 14]])"
      ]
     },
     "execution_count": 31,
     "metadata": {},
     "output_type": "execute_result"
    }
   ],
   "source": [
    "radius = 0.06 # quite large this is bad for gas\n",
    "ids_pairs_collide = ids_pairs[d_pairs < 2*radius]\n",
    "ids_pairs_collide"
   ]
  },
  {
   "cell_type": "code",
   "execution_count": 32,
   "metadata": {
    "metadata": {}
   },
   "outputs": [],
   "source": [
    "v1 = v[:, ids_pairs_collide[:, 0]]\n",
    "v2 = v[:, ids_pairs_collide[:, 1]]\n",
    "r1 = r[:, ids_pairs_collide[:, 0]]\n",
    "r2 = r[:, ids_pairs_collide[:, 1]]"
   ]
  },
  {
   "cell_type": "markdown",
   "metadata": {},
   "source": [
    "Then we can compute the new velocity:"
   ]
  },
  {
   "cell_type": "code",
   "execution_count": 33,
   "metadata": {
    "metadata": {}
   },
   "outputs": [],
   "source": [
    "v1new = v1 - np.sum((v1-v2).T@(r1-r2), axis=0)/np.sum((r1-r2)**2, axis=0) * (r1-r2)\n",
    "v2new = v2 - np.sum((v1-v2).T@(r1-r2), axis=0)/np.sum((r2-r1)**2, axis=0) * (r2-r1)"
   ]
  },
  {
   "cell_type": "markdown",
   "metadata": {},
   "source": [
    "# Part 3: Functions to Run the Simulation\n",
    "\n",
    "Here we define some functions that will help make running the simulation easier."
   ]
  },
  {
   "cell_type": "code",
   "execution_count": 34,
   "metadata": {
    "metadata": {}
   },
   "outputs": [],
   "source": [
    "def get_delta_pairs(x):\n",
    "    return np.diff(np.asarray(list(combinations(x,2))), axis=1).ravel()\n",
    "\n",
    "def get_deltad_pairs(r):\n",
    "    return np.sqrt(get_delta_pairs(r[0])**2 + get_delta_pairs((r[1]))**2)\n",
    "\n",
    "def compute_new_v(v1, v2, r1, r2):\n",
    "    v1new = v1 - np.sum((v1-v2).T@(r1-r2), axis=0)/np.sum((r1-r2)**2, axis=0) * (r1-r2)\n",
    "    v2new = v2 - np.sum((v1-v2).T@(r1-r2), axis=0)/np.sum((r2-r1)**2, axis=0) * (r2-r1)\n",
    "    return v1new, v2new\n",
    "\n",
    "def motion(r, v, id_pairs, ts, dt, d_cutoff):\n",
    "    rs = np.zeros((ts, r.shape[0], r.shape[1]))\n",
    "    vs = np.zeros((ts, v.shape[0], v.shape[1]))\n",
    "    # Initial State\n",
    "    rs[0] = r.copy()\n",
    "    vs[0] = v.copy()\n",
    "    for i in range(1,ts):\n",
    "        ic = id_pairs[get_deltad_pairs(r) < d_cutoff]\n",
    "        v[:,ic[:,0]], v[:,ic[:,1]] = compute_new_v(v[:,ic[:,0]], v[:,ic[:,1]],\n",
    "                                                   r[:,ic[:,0]], r[:,ic[:,1]])\n",
    "        \n",
    "        v[0,r[0]>1] = -np.abs(v[0,r[0]>1])\n",
    "        v[0,r[0]<0] = np.abs(v[0,r[0]<0])\n",
    "        v[1,r[1]>1] = -np.abs(v[1,r[1]>1])\n",
    "        v[1,r[1]<0] = np.abs(v[1,r[1]<0])\n",
    "        \n",
    "        r = r + v*dt\n",
    "        rs[i] = r\n",
    "        vs[i] = v\n",
    "    return rs, vs"
   ]
  },
  {
   "cell_type": "markdown",
   "metadata": {},
   "source": [
    "Set the radius and find the position of all particles as function of time (3D array `rs` where each axis is $(t, x, y)$)."
   ]
  },
  {
   "cell_type": "code",
   "execution_count": 35,
   "metadata": {
    "metadata": {}
   },
   "outputs": [],
   "source": [
    "radius = 0.03\n",
    "rs, vs = motion(r, v, ids_pairs, ts=1000, dt=8e-6, d_cutoff=2*radius)"
   ]
  },
  {
   "cell_type": "markdown",
   "metadata": {},
   "source": [
    "Plot red and blue circles, making sure each is the correct size."
   ]
  },
  {
   "cell_type": "code",
   "execution_count": 37,
   "metadata": {
    "metadata": {}
   },
   "outputs": [
    {
     "data": {
      "image/png": "[encoded data removed]",
      "text/plain": [
       "<Figure size 500x500 with 1 Axes>"
      ]
     },
     "metadata": {},
     "output_type": "display_data"
    }
   ],
   "source": [
    "fig, ax = plt.subplots(1,1,figsize=(5,5))\n",
    "xred, yred = rs[0][0][ixr], rs[0][1][ixr]\n",
    "xblue, yblue = rs[0][0][ixl], rs[0][1][ixl]\n",
    "circles_red = [plt.Circle((xi, yi), radius=radius, linewidth=0) for xi,yi in zip(xred, yred)]\n",
    "circles_blue = [plt.Circle((xi, yi), radius=radius, linewidth=0) for xi,yi in zip(xblue, yblue)]\n",
    "cred = matplotlib.collections.PatchCollection(circles_red, facecolors='red')\n",
    "cblue = matplotlib.collections.PatchCollection(circles_blue, facecolors='blue')\n",
    "ax.add_collection(cred)\n",
    "ax.add_collection(cblue)\n",
    "ax.set_xlim(0,1)\n",
    "ax.set_ylim(0,1)\n",
    "plt.show()"
   ]
  },
  {
   "cell_type": "markdown",
   "metadata": {},
   "source": [
    "Make initial animation of the simulation"
   ]
  },
  {
   "cell_type": "code",
   "execution_count": 39,
   "metadata": {
    "metadata": {}
   },
   "outputs": [
    {
     "ename": "RuntimeError",
     "evalue": "The animation function must return a sequence of Artist objects.",
     "output_type": "error",
     "traceback": [
      "\u001b[1;31m---------------------------------------------------------------------------\u001b[0m",
      "\u001b[1;31mRuntimeError\u001b[0m                              Traceback (most recent call last)",
      "Cell \u001b[1;32mIn[39], line 16\u001b[0m\n\u001b[0;32m     13\u001b[0m     ax\u001b[38;5;241m.\u001b[39mset_xlim(\u001b[38;5;241m0\u001b[39m,\u001b[38;5;241m1\u001b[39m)\n\u001b[0;32m     14\u001b[0m     ax\u001b[38;5;241m.\u001b[39mset_ylim(\u001b[38;5;241m0\u001b[39m,\u001b[38;5;241m1\u001b[39m)\n\u001b[1;32m---> 16\u001b[0m ani \u001b[38;5;241m=\u001b[39m animation\u001b[38;5;241m.\u001b[39mFuncAnimation(fig, animate, frames\u001b[38;5;241m=\u001b[39m\u001b[38;5;241m500\u001b[39m, interval\u001b[38;5;241m=\u001b[39m\u001b[38;5;241m50\u001b[39m, blit\u001b[38;5;241m=\u001b[39m\u001b[38;5;28;01mTrue\u001b[39;00m)\n\u001b[0;32m     17\u001b[0m ani\u001b[38;5;241m.\u001b[39msave(\u001b[38;5;124m'\u001b[39m\u001b[38;5;124mani3.mp4\u001b[39m\u001b[38;5;124m'\u001b[39m, writer\u001b[38;5;241m=\u001b[39m\u001b[38;5;124m'\u001b[39m\u001b[38;5;124mpillow\u001b[39m\u001b[38;5;124m'\u001b[39m, dpi\u001b[38;5;241m=\u001b[39m\u001b[38;5;241m100\u001b[39m)\n",
      "File \u001b[1;32md:\\Programming\\Anaconda\\Lib\\site-packages\\matplotlib\\animation.py:1695\u001b[0m, in \u001b[0;36mFuncAnimation.__init__\u001b[1;34m(self, fig, func, frames, init_func, fargs, save_count, cache_frame_data, **kwargs)\u001b[0m\n\u001b[0;32m   1692\u001b[0m \u001b[38;5;66;03m# Needs to be initialized so the draw functions work without checking\u001b[39;00m\n\u001b[0;32m   1693\u001b[0m \u001b[38;5;28mself\u001b[39m\u001b[38;5;241m.\u001b[39m_save_seq \u001b[38;5;241m=\u001b[39m []\n\u001b[1;32m-> 1695\u001b[0m \u001b[38;5;28msuper\u001b[39m()\u001b[38;5;241m.\u001b[39m\u001b[38;5;21m__init__\u001b[39m(fig, \u001b[38;5;241m*\u001b[39m\u001b[38;5;241m*\u001b[39mkwargs)\n\u001b[0;32m   1697\u001b[0m \u001b[38;5;66;03m# Need to reset the saved seq, since right now it will contain data\u001b[39;00m\n\u001b[0;32m   1698\u001b[0m \u001b[38;5;66;03m# for a single frame from init, which is not what we want.\u001b[39;00m\n\u001b[0;32m   1699\u001b[0m \u001b[38;5;28mself\u001b[39m\u001b[38;5;241m.\u001b[39m_save_seq \u001b[38;5;241m=\u001b[39m []\n",
      "File \u001b[1;32md:\\Programming\\Anaconda\\Lib\\site-packages\\matplotlib\\animation.py:1417\u001b[0m, in \u001b[0;36mTimedAnimation.__init__\u001b[1;34m(self, fig, interval, repeat_delay, repeat, event_source, *args, **kwargs)\u001b[0m\n\u001b[0;32m   1415\u001b[0m \u001b[38;5;28;01mif\u001b[39;00m event_source \u001b[38;5;129;01mis\u001b[39;00m \u001b[38;5;28;01mNone\u001b[39;00m:\n\u001b[0;32m   1416\u001b[0m     event_source \u001b[38;5;241m=\u001b[39m fig\u001b[38;5;241m.\u001b[39mcanvas\u001b[38;5;241m.\u001b[39mnew_timer(interval\u001b[38;5;241m=\u001b[39m\u001b[38;5;28mself\u001b[39m\u001b[38;5;241m.\u001b[39m_interval)\n\u001b[1;32m-> 1417\u001b[0m \u001b[38;5;28msuper\u001b[39m()\u001b[38;5;241m.\u001b[39m\u001b[38;5;21m__init__\u001b[39m(fig, event_source\u001b[38;5;241m=\u001b[39mevent_source, \u001b[38;5;241m*\u001b[39margs, \u001b[38;5;241m*\u001b[39m\u001b[38;5;241m*\u001b[39mkwargs)\n",
      "File \u001b[1;32md:\\Programming\\Anaconda\\Lib\\site-packages\\matplotlib\\animation.py:888\u001b[0m, in \u001b[0;36mAnimation.__init__\u001b[1;34m(self, fig, event_source, blit)\u001b[0m\n\u001b[0;32m    885\u001b[0m \u001b[38;5;28mself\u001b[39m\u001b[38;5;241m.\u001b[39m_close_id \u001b[38;5;241m=\u001b[39m \u001b[38;5;28mself\u001b[39m\u001b[38;5;241m.\u001b[39m_fig\u001b[38;5;241m.\u001b[39mcanvas\u001b[38;5;241m.\u001b[39mmpl_connect(\u001b[38;5;124m'\u001b[39m\u001b[38;5;124mclose_event\u001b[39m\u001b[38;5;124m'\u001b[39m,\n\u001b[0;32m    886\u001b[0m                                               \u001b[38;5;28mself\u001b[39m\u001b[38;5;241m.\u001b[39m_stop)\n\u001b[0;32m    887\u001b[0m \u001b[38;5;28;01mif\u001b[39;00m \u001b[38;5;28mself\u001b[39m\u001b[38;5;241m.\u001b[39m_blit:\n\u001b[1;32m--> 888\u001b[0m     \u001b[38;5;28mself\u001b[39m\u001b[38;5;241m.\u001b[39m_setup_blit()\n",
      "File \u001b[1;32md:\\Programming\\Anaconda\\Lib\\site-packages\\matplotlib\\animation.py:1211\u001b[0m, in \u001b[0;36mAnimation._setup_blit\u001b[1;34m(self)\u001b[0m\n\u001b[0;32m   1209\u001b[0m \u001b[38;5;28mself\u001b[39m\u001b[38;5;241m.\u001b[39m_drawn_artists \u001b[38;5;241m=\u001b[39m []\n\u001b[0;32m   1210\u001b[0m \u001b[38;5;66;03m# _post_draw needs to be called first to initialize the renderer\u001b[39;00m\n\u001b[1;32m-> 1211\u001b[0m \u001b[38;5;28mself\u001b[39m\u001b[38;5;241m.\u001b[39m_post_draw(\u001b[38;5;28;01mNone\u001b[39;00m, \u001b[38;5;28mself\u001b[39m\u001b[38;5;241m.\u001b[39m_blit)\n\u001b[0;32m   1212\u001b[0m \u001b[38;5;66;03m# Then we need to clear the Frame for the initial draw\u001b[39;00m\n\u001b[0;32m   1213\u001b[0m \u001b[38;5;66;03m# This is typically handled in _on_resize because QT and Tk\u001b[39;00m\n\u001b[0;32m   1214\u001b[0m \u001b[38;5;66;03m# emit a resize event on launch, but the macosx backend does not,\u001b[39;00m\n\u001b[0;32m   1215\u001b[0m \u001b[38;5;66;03m# thus we force it here for everyone for consistency\u001b[39;00m\n\u001b[0;32m   1216\u001b[0m \u001b[38;5;28mself\u001b[39m\u001b[38;5;241m.\u001b[39m_init_draw()\n",
      "File \u001b[1;32md:\\Programming\\Anaconda\\Lib\\site-packages\\matplotlib\\animation.py:1166\u001b[0m, in \u001b[0;36mAnimation._post_draw\u001b[1;34m(self, framedata, blit)\u001b[0m\n\u001b[0;32m   1164\u001b[0m     \u001b[38;5;28mself\u001b[39m\u001b[38;5;241m.\u001b[39m_blit_draw(\u001b[38;5;28mself\u001b[39m\u001b[38;5;241m.\u001b[39m_drawn_artists)\n\u001b[0;32m   1165\u001b[0m \u001b[38;5;28;01melse\u001b[39;00m:\n\u001b[1;32m-> 1166\u001b[0m     \u001b[38;5;28mself\u001b[39m\u001b[38;5;241m.\u001b[39m_fig\u001b[38;5;241m.\u001b[39mcanvas\u001b[38;5;241m.\u001b[39mdraw_idle()\n",
      "File \u001b[1;32md:\\Programming\\Anaconda\\Lib\\site-packages\\matplotlib\\backend_bases.py:1893\u001b[0m, in \u001b[0;36mFigureCanvasBase.draw_idle\u001b[1;34m(self, *args, **kwargs)\u001b[0m\n\u001b[0;32m   1891\u001b[0m \u001b[38;5;28;01mif\u001b[39;00m \u001b[38;5;129;01mnot\u001b[39;00m \u001b[38;5;28mself\u001b[39m\u001b[38;5;241m.\u001b[39m_is_idle_drawing:\n\u001b[0;32m   1892\u001b[0m     \u001b[38;5;28;01mwith\u001b[39;00m \u001b[38;5;28mself\u001b[39m\u001b[38;5;241m.\u001b[39m_idle_draw_cntx():\n\u001b[1;32m-> 1893\u001b[0m         \u001b[38;5;28mself\u001b[39m\u001b[38;5;241m.\u001b[39mdraw(\u001b[38;5;241m*\u001b[39margs, \u001b[38;5;241m*\u001b[39m\u001b[38;5;241m*\u001b[39mkwargs)\n",
      "File \u001b[1;32md:\\Programming\\Anaconda\\Lib\\site-packages\\matplotlib\\backends\\backend_agg.py:388\u001b[0m, in \u001b[0;36mFigureCanvasAgg.draw\u001b[1;34m(self)\u001b[0m\n\u001b[0;32m    385\u001b[0m \u001b[38;5;66;03m# Acquire a lock on the shared font cache.\u001b[39;00m\n\u001b[0;32m    386\u001b[0m \u001b[38;5;28;01mwith\u001b[39;00m (\u001b[38;5;28mself\u001b[39m\u001b[38;5;241m.\u001b[39mtoolbar\u001b[38;5;241m.\u001b[39m_wait_cursor_for_draw_cm() \u001b[38;5;28;01mif\u001b[39;00m \u001b[38;5;28mself\u001b[39m\u001b[38;5;241m.\u001b[39mtoolbar\n\u001b[0;32m    387\u001b[0m       \u001b[38;5;28;01melse\u001b[39;00m nullcontext()):\n\u001b[1;32m--> 388\u001b[0m     \u001b[38;5;28mself\u001b[39m\u001b[38;5;241m.\u001b[39mfigure\u001b[38;5;241m.\u001b[39mdraw(\u001b[38;5;28mself\u001b[39m\u001b[38;5;241m.\u001b[39mrenderer)\n\u001b[0;32m    389\u001b[0m     \u001b[38;5;66;03m# A GUI class may be need to update a window using this draw, so\u001b[39;00m\n\u001b[0;32m    390\u001b[0m     \u001b[38;5;66;03m# don't forget to call the superclass.\u001b[39;00m\n\u001b[0;32m    391\u001b[0m     \u001b[38;5;28msuper\u001b[39m()\u001b[38;5;241m.\u001b[39mdraw()\n",
      "File \u001b[1;32md:\\Programming\\Anaconda\\Lib\\site-packages\\matplotlib\\artist.py:95\u001b[0m, in \u001b[0;36m_finalize_rasterization.<locals>.draw_wrapper\u001b[1;34m(artist, renderer, *args, **kwargs)\u001b[0m\n\u001b[0;32m     93\u001b[0m \u001b[38;5;129m@wraps\u001b[39m(draw)\n\u001b[0;32m     94\u001b[0m \u001b[38;5;28;01mdef\u001b[39;00m \u001b[38;5;21mdraw_wrapper\u001b[39m(artist, renderer, \u001b[38;5;241m*\u001b[39margs, \u001b[38;5;241m*\u001b[39m\u001b[38;5;241m*\u001b[39mkwargs):\n\u001b[1;32m---> 95\u001b[0m     result \u001b[38;5;241m=\u001b[39m draw(artist, renderer, \u001b[38;5;241m*\u001b[39margs, \u001b[38;5;241m*\u001b[39m\u001b[38;5;241m*\u001b[39mkwargs)\n\u001b[0;32m     96\u001b[0m     \u001b[38;5;28;01mif\u001b[39;00m renderer\u001b[38;5;241m.\u001b[39m_rasterizing:\n\u001b[0;32m     97\u001b[0m         renderer\u001b[38;5;241m.\u001b[39mstop_rasterizing()\n",
      "File \u001b[1;32md:\\Programming\\Anaconda\\Lib\\site-packages\\matplotlib\\artist.py:72\u001b[0m, in \u001b[0;36mallow_rasterization.<locals>.draw_wrapper\u001b[1;34m(artist, renderer)\u001b[0m\n\u001b[0;32m     69\u001b[0m     \u001b[38;5;28;01mif\u001b[39;00m artist\u001b[38;5;241m.\u001b[39mget_agg_filter() \u001b[38;5;129;01mis\u001b[39;00m \u001b[38;5;129;01mnot\u001b[39;00m \u001b[38;5;28;01mNone\u001b[39;00m:\n\u001b[0;32m     70\u001b[0m         renderer\u001b[38;5;241m.\u001b[39mstart_filter()\n\u001b[1;32m---> 72\u001b[0m     \u001b[38;5;28;01mreturn\u001b[39;00m draw(artist, renderer)\n\u001b[0;32m     73\u001b[0m \u001b[38;5;28;01mfinally\u001b[39;00m:\n\u001b[0;32m     74\u001b[0m     \u001b[38;5;28;01mif\u001b[39;00m artist\u001b[38;5;241m.\u001b[39mget_agg_filter() \u001b[38;5;129;01mis\u001b[39;00m \u001b[38;5;129;01mnot\u001b[39;00m \u001b[38;5;28;01mNone\u001b[39;00m:\n",
      "File \u001b[1;32md:\\Programming\\Anaconda\\Lib\\site-packages\\matplotlib\\figure.py:3164\u001b[0m, in \u001b[0;36mFigure.draw\u001b[1;34m(self, renderer)\u001b[0m\n\u001b[0;32m   3161\u001b[0m \u001b[38;5;28;01mfinally\u001b[39;00m:\n\u001b[0;32m   3162\u001b[0m     \u001b[38;5;28mself\u001b[39m\u001b[38;5;241m.\u001b[39mstale \u001b[38;5;241m=\u001b[39m \u001b[38;5;28;01mFalse\u001b[39;00m\n\u001b[1;32m-> 3164\u001b[0m DrawEvent(\u001b[38;5;124m\"\u001b[39m\u001b[38;5;124mdraw_event\u001b[39m\u001b[38;5;124m\"\u001b[39m, \u001b[38;5;28mself\u001b[39m\u001b[38;5;241m.\u001b[39mcanvas, renderer)\u001b[38;5;241m.\u001b[39m_process()\n",
      "File \u001b[1;32md:\\Programming\\Anaconda\\Lib\\site-packages\\matplotlib\\backend_bases.py:1271\u001b[0m, in \u001b[0;36mEvent._process\u001b[1;34m(self)\u001b[0m\n\u001b[0;32m   1269\u001b[0m \u001b[38;5;28;01mdef\u001b[39;00m \u001b[38;5;21m_process\u001b[39m(\u001b[38;5;28mself\u001b[39m):\n\u001b[0;32m   1270\u001b[0m \u001b[38;5;250m    \u001b[39m\u001b[38;5;124;03m\"\"\"Process this event on ``self.canvas``, then unset ``guiEvent``.\"\"\"\u001b[39;00m\n\u001b[1;32m-> 1271\u001b[0m     \u001b[38;5;28mself\u001b[39m\u001b[38;5;241m.\u001b[39mcanvas\u001b[38;5;241m.\u001b[39mcallbacks\u001b[38;5;241m.\u001b[39mprocess(\u001b[38;5;28mself\u001b[39m\u001b[38;5;241m.\u001b[39mname, \u001b[38;5;28mself\u001b[39m)\n\u001b[0;32m   1272\u001b[0m     \u001b[38;5;28mself\u001b[39m\u001b[38;5;241m.\u001b[39m_guiEvent_deleted \u001b[38;5;241m=\u001b[39m \u001b[38;5;28;01mTrue\u001b[39;00m\n",
      "File \u001b[1;32md:\\Programming\\Anaconda\\Lib\\site-packages\\matplotlib\\cbook.py:303\u001b[0m, in \u001b[0;36mCallbackRegistry.process\u001b[1;34m(self, s, *args, **kwargs)\u001b[0m\n\u001b[0;32m    301\u001b[0m \u001b[38;5;28;01mexcept\u001b[39;00m \u001b[38;5;167;01mException\u001b[39;00m \u001b[38;5;28;01mas\u001b[39;00m exc:\n\u001b[0;32m    302\u001b[0m     \u001b[38;5;28;01mif\u001b[39;00m \u001b[38;5;28mself\u001b[39m\u001b[38;5;241m.\u001b[39mexception_handler \u001b[38;5;129;01mis\u001b[39;00m \u001b[38;5;129;01mnot\u001b[39;00m \u001b[38;5;28;01mNone\u001b[39;00m:\n\u001b[1;32m--> 303\u001b[0m         \u001b[38;5;28mself\u001b[39m\u001b[38;5;241m.\u001b[39mexception_handler(exc)\n\u001b[0;32m    304\u001b[0m     \u001b[38;5;28;01melse\u001b[39;00m:\n\u001b[0;32m    305\u001b[0m         \u001b[38;5;28;01mraise\u001b[39;00m\n",
      "File \u001b[1;32md:\\Programming\\Anaconda\\Lib\\site-packages\\matplotlib\\cbook.py:87\u001b[0m, in \u001b[0;36m_exception_printer\u001b[1;34m(exc)\u001b[0m\n\u001b[0;32m     85\u001b[0m \u001b[38;5;28;01mdef\u001b[39;00m \u001b[38;5;21m_exception_printer\u001b[39m(exc):\n\u001b[0;32m     86\u001b[0m     \u001b[38;5;28;01mif\u001b[39;00m _get_running_interactive_framework() \u001b[38;5;129;01min\u001b[39;00m [\u001b[38;5;124m\"\u001b[39m\u001b[38;5;124mheadless\u001b[39m\u001b[38;5;124m\"\u001b[39m, \u001b[38;5;28;01mNone\u001b[39;00m]:\n\u001b[1;32m---> 87\u001b[0m         \u001b[38;5;28;01mraise\u001b[39;00m exc\n\u001b[0;32m     88\u001b[0m     \u001b[38;5;28;01melse\u001b[39;00m:\n\u001b[0;32m     89\u001b[0m         traceback\u001b[38;5;241m.\u001b[39mprint_exc()\n",
      "File \u001b[1;32md:\\Programming\\Anaconda\\Lib\\site-packages\\matplotlib\\cbook.py:298\u001b[0m, in \u001b[0;36mCallbackRegistry.process\u001b[1;34m(self, s, *args, **kwargs)\u001b[0m\n\u001b[0;32m    296\u001b[0m \u001b[38;5;28;01mif\u001b[39;00m func \u001b[38;5;129;01mis\u001b[39;00m \u001b[38;5;129;01mnot\u001b[39;00m \u001b[38;5;28;01mNone\u001b[39;00m:\n\u001b[0;32m    297\u001b[0m     \u001b[38;5;28;01mtry\u001b[39;00m:\n\u001b[1;32m--> 298\u001b[0m         func(\u001b[38;5;241m*\u001b[39margs, \u001b[38;5;241m*\u001b[39m\u001b[38;5;241m*\u001b[39mkwargs)\n\u001b[0;32m    299\u001b[0m     \u001b[38;5;66;03m# this does not capture KeyboardInterrupt, SystemExit,\u001b[39;00m\n\u001b[0;32m    300\u001b[0m     \u001b[38;5;66;03m# and GeneratorExit\u001b[39;00m\n\u001b[0;32m    301\u001b[0m     \u001b[38;5;28;01mexcept\u001b[39;00m \u001b[38;5;167;01mException\u001b[39;00m \u001b[38;5;28;01mas\u001b[39;00m exc:\n",
      "File \u001b[1;32md:\\Programming\\Anaconda\\Lib\\site-packages\\matplotlib\\animation.py:912\u001b[0m, in \u001b[0;36mAnimation._start\u001b[1;34m(self, *args)\u001b[0m\n\u001b[0;32m    909\u001b[0m \u001b[38;5;28mself\u001b[39m\u001b[38;5;241m.\u001b[39m_fig\u001b[38;5;241m.\u001b[39mcanvas\u001b[38;5;241m.\u001b[39mmpl_disconnect(\u001b[38;5;28mself\u001b[39m\u001b[38;5;241m.\u001b[39m_first_draw_id)\n\u001b[0;32m    911\u001b[0m \u001b[38;5;66;03m# Now do any initial draw\u001b[39;00m\n\u001b[1;32m--> 912\u001b[0m \u001b[38;5;28mself\u001b[39m\u001b[38;5;241m.\u001b[39m_init_draw()\n\u001b[0;32m    914\u001b[0m \u001b[38;5;66;03m# Add our callback for stepping the animation and\u001b[39;00m\n\u001b[0;32m    915\u001b[0m \u001b[38;5;66;03m# actually start the event_source.\u001b[39;00m\n\u001b[0;32m    916\u001b[0m \u001b[38;5;28mself\u001b[39m\u001b[38;5;241m.\u001b[39mevent_source\u001b[38;5;241m.\u001b[39madd_callback(\u001b[38;5;28mself\u001b[39m\u001b[38;5;241m.\u001b[39m_step)\n",
      "File \u001b[1;32md:\\Programming\\Anaconda\\Lib\\site-packages\\matplotlib\\animation.py:1749\u001b[0m, in \u001b[0;36mFuncAnimation._init_draw\u001b[1;34m(self)\u001b[0m\n\u001b[0;32m   1741\u001b[0m         warnings\u001b[38;5;241m.\u001b[39mwarn(\n\u001b[0;32m   1742\u001b[0m             \u001b[38;5;124m\"\u001b[39m\u001b[38;5;124mCan not start iterating the frames for the initial draw. \u001b[39m\u001b[38;5;124m\"\u001b[39m\n\u001b[0;32m   1743\u001b[0m             \u001b[38;5;124m\"\u001b[39m\u001b[38;5;124mThis can be caused by passing in a 0 length sequence \u001b[39m\u001b[38;5;124m\"\u001b[39m\n\u001b[1;32m   (...)\u001b[0m\n\u001b[0;32m   1746\u001b[0m             \u001b[38;5;124m\"\u001b[39m\u001b[38;5;124mit may be exhausted due to a previous display or save.\u001b[39m\u001b[38;5;124m\"\u001b[39m\n\u001b[0;32m   1747\u001b[0m         )\n\u001b[0;32m   1748\u001b[0m         \u001b[38;5;28;01mreturn\u001b[39;00m\n\u001b[1;32m-> 1749\u001b[0m     \u001b[38;5;28mself\u001b[39m\u001b[38;5;241m.\u001b[39m_draw_frame(frame_data)\n\u001b[0;32m   1750\u001b[0m \u001b[38;5;28;01melse\u001b[39;00m:\n\u001b[0;32m   1751\u001b[0m     \u001b[38;5;28mself\u001b[39m\u001b[38;5;241m.\u001b[39m_drawn_artists \u001b[38;5;241m=\u001b[39m \u001b[38;5;28mself\u001b[39m\u001b[38;5;241m.\u001b[39m_init_func()\n",
      "File \u001b[1;32md:\\Programming\\Anaconda\\Lib\\site-packages\\matplotlib\\animation.py:1778\u001b[0m, in \u001b[0;36mFuncAnimation._draw_frame\u001b[1;34m(self, framedata)\u001b[0m\n\u001b[0;32m   1776\u001b[0m     \u001b[38;5;28miter\u001b[39m(\u001b[38;5;28mself\u001b[39m\u001b[38;5;241m.\u001b[39m_drawn_artists)\n\u001b[0;32m   1777\u001b[0m \u001b[38;5;28;01mexcept\u001b[39;00m \u001b[38;5;167;01mTypeError\u001b[39;00m:\n\u001b[1;32m-> 1778\u001b[0m     \u001b[38;5;28;01mraise\u001b[39;00m err \u001b[38;5;28;01mfrom\u001b[39;00m \u001b[38;5;28;01mNone\u001b[39;00m\n\u001b[0;32m   1780\u001b[0m \u001b[38;5;66;03m# check each item if it's artist\u001b[39;00m\n\u001b[0;32m   1781\u001b[0m \u001b[38;5;28;01mfor\u001b[39;00m i \u001b[38;5;129;01min\u001b[39;00m \u001b[38;5;28mself\u001b[39m\u001b[38;5;241m.\u001b[39m_drawn_artists:\n",
      "\u001b[1;31mRuntimeError\u001b[0m: The animation function must return a sequence of Artist objects."
     ]
    },
    {
     "data": {
      "image/png": "[encoded data removed]",
      "text/plain": [
       "<Figure size 500x500 with 1 Axes>"
      ]
     },
     "metadata": {},
     "output_type": "display_data"
    }
   ],
   "source": [
    "fig, ax = plt.subplots(1,1,figsize=(5,5))\n",
    "\n",
    "def animate(i):\n",
    "    ax.clear()\n",
    "    xred, yred = rs[i][0][ixr], rs[i][1][ixr]\n",
    "    xblue, yblue = rs[i][0][ixl], rs[i][1][ixl]\n",
    "    circles_red = [plt.Circle((xi, yi), radius=radius, linewidth=0) for xi,yi in zip(xred, yred)]\n",
    "    circles_blue = [plt.Circle((xi, yi), radius=radius, linewidth=0) for xi,yi in zip(xblue, yblue)]\n",
    "    cred = matplotlib.collections.PatchCollection(circles_red, facecolors='red')\n",
    "    cblue = matplotlib.collections.PatchCollection(circles_blue, facecolors='blue')\n",
    "    ax.add_collection(cred)\n",
    "    ax.add_collection(cblue)\n",
    "    ax.set_xlim(0,1)\n",
    "    ax.set_ylim(0,1)\n",
    "    \n",
    "ani = animation.FuncAnimation(fig, animate, frames=500, interval=50, blit=True)\n",
    "ani.save('ani3.mp4', writer='pillow', dpi=100)"
   ]
  },
  {
   "cell_type": "markdown",
   "metadata": {},
   "source": [
    "Now that we're sure that it work, lets make a simulation containing many more particles"
   ]
  },
  {
   "cell_type": "code",
   "execution_count": null,
   "metadata": {},
   "outputs": [],
   "source": [
    "n_particles = 16\n",
    "r = np.random.random((2, n_particles))\n",
    "ixr = r[0]>0.5\n",
    "ixl = r[0]<= 0.5\n",
    "ids = np.arange(n_particles)\n",
    "ids_pairs = np.asarray(list(combinations(ids, 2)))\n",
    "v = np.zeros((2, n_particles))\n",
    "v[0][ixr] = -500\n",
    "v[0][ixl] = 500\n",
    "radius = 0.0015\n",
    "rs, vs = motion(r, v, ids_pairs, ts=1000, dt=8e-6, d_cutoff=2*radius)"
   ]
  },
  {
   "cell_type": "markdown",
   "metadata": {},
   "source": [
    "Let's look at the final velocity distribution of the particles and compare it to Maxwell-Boltzmann in 2 Dimensions:\n",
    "\n",
    "* $kT = KE_{avg} = \\frac{1}{2}m\\bar{v^2} \\implies \\boxed{\\frac{m}{kT} = \\frac{2}{\\bar{v^2}}}$\n",
    "* $\\boxed{f(v) = \\frac{m}{kT} v \\exp\\left(-\\frac{m}{kT}\\frac{v^2}{2} \\right)}$"
   ]
  },
  {
   "cell_type": "code",
   "execution_count": null,
   "metadata": {},
   "outputs": [],
   "source": [
    "v = np.linspace(0, 2000, 1000)\n",
    "a = 2/500**2\n",
    "fv = a*v*np.exp(-a*v**2 / 2)"
   ]
  },
  {
   "cell_type": "markdown",
   "metadata": {},
   "source": [
    "Plot the final histogram next to this curve:"
   ]
  },
  {
   "cell_type": "code",
   "execution_count": null,
   "metadata": {},
   "outputs": [],
   "source": [
    "bins = np.linspace(0, 1500, 50)\n",
    "plt.figure()\n",
    "plt.hist(np.sqrt(np.sum(vs[400]**2, axis=0)).cpu(), bins=bins, density=True)\n",
    "plt.plot(v, fv)\n",
    "plt.xlabel('Velocity [m/s]')\n",
    "plt.ylabel('# Particles')"
   ]
  },
  {
   "cell_type": "markdown",
   "metadata": {},
   "source": [
    "Finally, we can make an animation of the particles moving around and the histogram at the same time"
   ]
  },
  {
   "cell_type": "code",
   "execution_count": null,
   "metadata": {},
   "outputs": [],
   "source": [
    "fig, axes = plt.subplots(1, 2, figsize=(20, 10))\n",
    "\n",
    "def animate(i):\n",
    "    [ax.clear() for ax in axes]\n",
    "    ax = axes[0]\n",
    "    xred, yred = rs[i][0][ixr], rs[i][1][ixr]\n",
    "    xblue, yblue = rs[i][0][ixl], rs[i][1][ixl]\n",
    "    circles_red = [plt.Circle((xi, yi), radius=radius, linewidth=0) for xi,yi in zip(xred, yred)]\n",
    "    circles_blue = [plt.Circle((xi, yi), radius=radius, linewidth=0) for xi,yi in zip(xblue, yblue)]\n",
    "    cred = matplotlib.collections.PatchCollection(circles_red, facecolors='red')\n",
    "    cblue = matplotlib.collections.PatchCollection(circles_blue, facecolors='blue')\n",
    "    ax.add_collection(cred)\n",
    "    ax.add_collection(cblue)\n",
    "    ax.set_xlim(0,1)\n",
    "    ax.set_ylim(0,1)\n",
    "    ax.tick_params(axis='x', labelsize=15)\n",
    "    ax.tick_params(axis='y', labelsize=15)\n",
    "    ax = axes[1]\n",
    "    ax.hist(np.sqrt(np.sum(vs[i]**2, axis=0)), bins=bins, density=True)\n",
    "    ax.plot(v, fv)\n",
    "    ax.set_xlabel('Velocity [m/s]')\n",
    "    ax.set_ylabel('# Particles')\n",
    "    ax.set_xlim(0, 1500)\n",
    "    ax.set_ylim(0, 0.006)\n",
    "    ax.tick_params(axis='x', labelsize=15)\n",
    "    ax.tick_params(axis='y', labelsize=15)\n",
    "    fig.tight_layout()\n",
    "    \n",
    "ani = animation.FuncAnimation(fig, animate, frames=500, interval=50, blit=True)\n",
    "ani.save('ani3.mp4', writer='pillow', dpi=100)"
   ]
  }
 ],
 "metadata": {
  "kernelspec": {
   "display_name": "Python 3",
   "language": "python",
   "name": "python3"
  },
  "language_info": {
   "codemirror_mode": {
    "name": "ipython",
    "version": 3
   },
   "file_extension": ".py",
   "mimetype": "text/x-python",
   "name": "python",
   "nbconvert_exporter": "python",
   "pygments_lexer": "ipython3",
   "version": "3.11.7"
  }
 },
 "nbformat": 4,
 "nbformat_minor": 2
}
