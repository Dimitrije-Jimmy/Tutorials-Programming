{
 "cells": [
  {
   "cell_type": "code",
   "execution_count": 1,
   "metadata": {
    "metadata": {}
   },
   "outputs": [
    {
     "name": "stdout",
     "output_type": "stream",
     "text": [
      "Requirement already satisfied: torch in c:\\programming\\anaconda3\\lib\\site-packages (2.3.1+cu121)\n",
      "Requirement already satisfied: filelock in c:\\programming\\anaconda3\\lib\\site-packages (from torch) (3.13.1)\n",
      "Requirement already satisfied: typing-extensions>=4.8.0 in c:\\programming\\anaconda3\\lib\\site-packages (from torch) (4.11.0)\n",
      "Requirement already satisfied: sympy in c:\\programming\\anaconda3\\lib\\site-packages (from torch) (1.12)\n",
      "Requirement already satisfied: networkx in c:\\programming\\anaconda3\\lib\\site-packages (from torch) (3.2.1)\n",
      "Requirement already satisfied: jinja2 in c:\\programming\\anaconda3\\lib\\site-packages (from torch) (3.1.4)\n",
      "Requirement already satisfied: fsspec in c:\\programming\\anaconda3\\lib\\site-packages (from torch) (2024.3.1)\n",
      "Requirement already satisfied: mkl<=2021.4.0,>=2021.1.1 in c:\\programming\\anaconda3\\lib\\site-packages (from torch) (2021.4.0)\n",
      "Requirement already satisfied: intel-openmp==2021.* in c:\\programming\\anaconda3\\lib\\site-packages (from mkl<=2021.4.0,>=2021.1.1->torch) (2021.4.0)\n",
      "Requirement already satisfied: tbb==2021.* in c:\\programming\\anaconda3\\lib\\site-packages (from mkl<=2021.4.0,>=2021.1.1->torch) (2021.13.0)\n",
      "Requirement already satisfied: MarkupSafe>=2.0 in c:\\programming\\anaconda3\\lib\\site-packages (from jinja2->torch) (2.1.3)\n",
      "Requirement already satisfied: mpmath>=0.19 in c:\\programming\\anaconda3\\lib\\site-packages (from sympy->torch) (1.3.0)\n",
      "Note: you may need to restart the kernel to use updated packages.\n",
      "Requirement already satisfied: torchquad in c:\\programming\\anaconda3\\lib\\site-packages (0.4.0)\n",
      "Requirement already satisfied: loguru>=0.5.3 in c:\\programming\\anaconda3\\lib\\site-packages (from torchquad) (0.7.2)\n",
      "Requirement already satisfied: matplotlib>=3.3.3 in c:\\programming\\anaconda3\\lib\\site-packages (from torchquad) (3.8.4)\n",
      "Requirement already satisfied: scipy>=1.6.0 in c:\\programming\\anaconda3\\lib\\site-packages (from torchquad) (1.13.1)\n",
      "Requirement already satisfied: tqdm>=4.56.1 in c:\\programming\\anaconda3\\lib\\site-packages (from torchquad) (4.66.4)\n",
      "Requirement already satisfied: autoray>=0.5.0 in c:\\programming\\anaconda3\\lib\\site-packages (from torchquad) (0.6.12)\n",
      "Requirement already satisfied: colorama>=0.3.4 in c:\\programming\\anaconda3\\lib\\site-packages (from loguru>=0.5.3->torchquad) (0.4.6)\n",
      "Requirement already satisfied: win32-setctime>=1.0.0 in c:\\programming\\anaconda3\\lib\\site-packages (from loguru>=0.5.3->torchquad) (1.1.0)\n",
      "Requirement already satisfied: contourpy>=1.0.1 in c:\\programming\\anaconda3\\lib\\site-packages (from matplotlib>=3.3.3->torchquad) (1.2.0)\n",
      "Requirement already satisfied: cycler>=0.10 in c:\\programming\\anaconda3\\lib\\site-packages (from matplotlib>=3.3.3->torchquad) (0.11.0)\n",
      "Requirement already satisfied: fonttools>=4.22.0 in c:\\programming\\anaconda3\\lib\\site-packages (from matplotlib>=3.3.3->torchquad) (4.51.0)\n",
      "Requirement already satisfied: kiwisolver>=1.3.1 in c:\\programming\\anaconda3\\lib\\site-packages (from matplotlib>=3.3.3->torchquad) (1.4.4)\n",
      "Requirement already satisfied: numpy>=1.21 in c:\\programming\\anaconda3\\lib\\site-packages (from matplotlib>=3.3.3->torchquad) (1.26.4)\n",
      "Requirement already satisfied: packaging>=20.0 in c:\\programming\\anaconda3\\lib\\site-packages (from matplotlib>=3.3.3->torchquad) (23.2)\n",
      "Requirement already satisfied: pillow>=8 in c:\\programming\\anaconda3\\lib\\site-packages (from matplotlib>=3.3.3->torchquad) (10.3.0)\n",
      "Requirement already satisfied: pyparsing>=2.3.1 in c:\\programming\\anaconda3\\lib\\site-packages (from matplotlib>=3.3.3->torchquad) (3.0.9)\n",
      "Requirement already satisfied: python-dateutil>=2.7 in c:\\programming\\anaconda3\\lib\\site-packages (from matplotlib>=3.3.3->torchquad) (2.9.0.post0)\n",
      "Requirement already satisfied: six>=1.5 in c:\\programming\\anaconda3\\lib\\site-packages (from python-dateutil>=2.7->matplotlib>=3.3.3->torchquad) (1.16.0)\n",
      "Note: you may need to restart the kernel to use updated packages.\n",
      "Requirement already satisfied: scipy in c:\\programming\\anaconda3\\lib\\site-packages (1.13.1)\n",
      "Requirement already satisfied: numpy<2.3,>=1.22.4 in c:\\programming\\anaconda3\\lib\\site-packages (from scipy) (1.26.4)\n",
      "Note: you may need to restart the kernel to use updated packages.\n"
     ]
    }
   ],
   "source": [
    "#%pip install torch\n",
    "#%pip install torchquad\n",
    "#%pip install scipy"
   ]
  },
  {
   "cell_type": "code",
   "execution_count": 1,
   "metadata": {
    "metadata": {}
   },
   "outputs": [
    {
     "name": "stdout",
     "output_type": "stream",
     "text": [
      "cuda\n"
     ]
    },
    {
     "name": "stderr",
     "output_type": "stream",
     "text": [
      "c:\\Programming\\anaconda3\\Lib\\site-packages\\torch\\__init__.py:749: UserWarning: torch.set_default_tensor_type() is deprecated as of PyTorch 2.1, please use torch.set_default_dtype() and torch.set_default_device() as alternatives. (Triggered internally at ..\\torch\\csrc\\tensor\\python_tensor.cpp:433.)\n",
      "  _C._set_default_tensor_type(t)\n"
     ]
    }
   ],
   "source": [
    "import numpy as np\n",
    "import torch\n",
    "# sympy we'll use for deriving the physics problem of dropping a magnet through loop of wire\n",
    "import sympy as smp\n",
    "import matplotlib.pyplot as plt\n",
    "# This is the main library for today, Torchquad, same as scipy.quad\n",
    "#  but built on torch functionality for different integration techniques\n",
    "from torchquad import Simpson, set_up_backend\n",
    "from scipy.integrate import nquad   # we compare to nquad\n",
    "import inspect      # used for a little hack\n",
    "device = torch.device('cuda' if torch.cuda.is_available() else 'cpu')\n",
    "print(device)\n",
    "# this set_up_backend function is used to setup that the GPU is used\n",
    "set_up_backend(\"torch\", data_type=\"float32\")"
   ]
  },
  {
   "attachments": {},
   "cell_type": "markdown",
   "metadata": {},
   "source": [
    "# torchquad vs. SciPy Basic Usage"
   ]
  },
  {
   "attachments": {},
   "cell_type": "markdown",
   "metadata": {},
   "source": [
    "Integrate $f(x_1,x_2,x_3,x_4,x_5)=\\sum_{i=1}^5 \\sin(x_i)$ from 0 to 1 in each of the $x_i$:\n",
    "\n",
    "$$\\int_0^1...\\int_0^1 \\sum_{i=1}^5 \\sin(x_i) dx_1dx_2dx_3dx_4dx_5$$\n",
    "\n",
    "We know the ground truth (the analytical solution) of this integral is $10\\sin^2(1/2)$ "
   ]
  },
  {
   "attachments": {},
   "cell_type": "markdown",
   "metadata": {},
   "source": [
    "* The NumPy integrand function needs to take in 5 arguments. By using `*x` as input, it will automatically take all the input arguments to that function and turn it into a tuple. It returns a single number.\n",
    "* The PyTorch integrand function takes in a tensor of shape `[n_points, n_dimensions]` and outputs a tensor of shape `[n_points]` (the value of the integrand at each integration point). That is why we sum along `dim=1` in the pytorch integrand function"
   ]
  },
  {
   "cell_type": "code",
   "execution_count": 2,
   "metadata": {
    "metadata": {}
   },
   "outputs": [],
   "source": [
    "def f(*x):\n",
    "    print(type(x))\n",
    "    return x"
   ]
  },
  {
   "cell_type": "code",
   "execution_count": 3,
   "metadata": {
    "metadata": {}
   },
   "outputs": [
    {
     "name": "stdout",
     "output_type": "stream",
     "text": [
      "<class 'tuple'>\n"
     ]
    },
    {
     "data": {
      "text/plain": [
       "(1, 2, 3, 5, 45, 65, 34, 45, 45)"
      ]
     },
     "execution_count": 3,
     "metadata": {},
     "output_type": "execute_result"
    }
   ],
   "source": [
    "\"\"\"\n",
    "<class 'tuple'>\n",
    "(1, 2, 3, 5, 45, 65, 34, 45, 45)\n",
    "\n",
    "*x places all passed arguments into a tuple \n",
    "\n",
    "The advantage of that for the integrand functions, you can turn it into a\n",
    " function (in this case the integrand_numpy) takes in 5 arguments and returns\n",
    " a sum of sines of all the values, and returns 1 single value\n",
    " \n",
    "The Pytorch function is a little bit different, it takes in x which in this case\n",
    " is a tensor of shape [n_points, n_dimensions], the n_points are all the\n",
    " discrete values of x at which the function is going to be evaluated at / integrated\n",
    " In essence it's doing the same as the numpy one but it's doing it for every single\n",
    " point in the integration domain\n",
    "We sum over dim=1 because we want to sum over the dimensions of x [n_points, n_dimensions]\n",
    " n_dimensions is in the indeks 1, it returns the [n_points] tensor\n",
    "\"\"\"\n",
    "f(1,2,3,5,45,65,34,45,45)"
   ]
  },
  {
   "cell_type": "code",
   "execution_count": 4,
   "metadata": {
    "metadata": {}
   },
   "outputs": [],
   "source": [
    "\"\"\"\n",
    "You'd use TorchQuad for high dimensionality integration problems\n",
    "\n",
    "You have to setup the integrand (f(x)) function correctly for each library\n",
    "Read the thing above\n",
    "\"\"\"\n",
    "\n",
    "def integrand_numpy(*x):\n",
    "    return np.sum(np.sin(x))\n",
    "def integrand_pytorch(x):\n",
    "    return torch.sum(torch.sin(x), dim=1)"
   ]
  },
  {
   "attachments": {},
   "cell_type": "markdown",
   "metadata": {},
   "source": [
    "Let's compare how long they take to run"
   ]
  },
  {
   "cell_type": "code",
   "execution_count": 5,
   "metadata": {
    "metadata": {}
   },
   "outputs": [],
   "source": [
    "dimension = 5\n",
    "integration_domain = [[0, 1]] * dimension\n",
    "ground_truth = 2 * dimension * np.sin(0.5)**2   # analytic solution"
   ]
  },
  {
   "cell_type": "code",
   "execution_count": 6,
   "metadata": {
    "metadata": {}
   },
   "outputs": [
    {
     "data": {
      "text/plain": [
       "2.2984884706593016"
      ]
     },
     "execution_count": 6,
     "metadata": {},
     "output_type": "execute_result"
    }
   ],
   "source": [
    "ground_truth"
   ]
  },
  {
   "attachments": {},
   "cell_type": "markdown",
   "metadata": {},
   "source": [
    "* NumPy/Scipy (CPU)"
   ]
  },
  {
   "cell_type": "code",
   "execution_count": 7,
   "metadata": {
    "metadata": {}
   },
   "outputs": [],
   "source": [
    "# the CPU numpy version, we pass integrand and the domain \\in [0, 1]\n",
    "#  in each dimensions (x_i; i=1-5)\n",
    "# [0] gives value of the evaluation, [1] gives the estimate of the error\n",
    "result_numpy = nquad(integrand_numpy, integration_domain)[0]\n",
    "# took 1m 24.4s\n",
    "# for him this took 15s ahahhaha\n",
    "# for me this time took 2m 23.4s"
   ]
  },
  {
   "attachments": {},
   "cell_type": "markdown",
   "metadata": {},
   "source": [
    "* PyTorch/TorchQuad (GPU)"
   ]
  },
  {
   "cell_type": "code",
   "execution_count": 8,
   "metadata": {
    "metadata": {}
   },
   "outputs": [
    {
     "name": "stderr",
     "output_type": "stream",
     "text": [
      "c:\\Programming\\anaconda3\\Lib\\site-packages\\torch\\functional.py:512: UserWarning: torch.meshgrid: in an upcoming release, it will be required to pass the indexing argument. (Triggered internally at ..\\aten\\src\\ATen\\native\\TensorShape.cpp:3588.)\n",
      "  return _VF.meshgrid(tensors, **kwargs)  # type: ignore[attr-defined]\n",
      "c:\\Programming\\anaconda3\\Lib\\site-packages\\torchquad\\integration\\utils.py:255: UserWarning: DEPRECATION WARNING: In future versions of torchquad, an array-like object will be returned.\n",
      "  warnings.warn(\n"
     ]
    },
    {
     "name": "stdout",
     "output_type": "stream",
     "text": [
      "PyTorch/TorchQuad: 2.298488\n",
      "PyTorch/TorchQuad: 2.298488\n",
      "PyTorch/TorchQuad: 2.298488\n",
      "PyTorch/TorchQuad: 2.298488\n",
      "PyTorch/TorchQuad: 2.298488\n",
      "PyTorch/TorchQuad: 2.298488\n",
      "PyTorch/TorchQuad: 2.298488\n",
      "PyTorch/TorchQuad: 2.298488\n",
      "106 ms ± 1.02 ms per loop (mean ± std. dev. of 7 runs, 1 loop each)\n"
     ]
    }
   ],
   "source": [
    "%%timeit    # this is for timing the execution time\n",
    "# In this case you need to specify the total amount of points you want to use\n",
    "#  in the integration domain, 37^dimensions stands for 37 points in each x_i dimension\n",
    "N = 37 ** dimension\n",
    "#N = 15 ** dimension\n",
    "simp = Simpson()  # Initialize Simpson solver\n",
    "# We once again pass the integrand, the dim is dimensions is 5 dimensional,\n",
    "#  the N stands for number of points to integrate over, and of course integration domain\n",
    "result_pytorch = simp.integrate(integrand_pytorch, dim=dimension, N=N, integration_domain=integration_domain)\n",
    "# took 6.64 ms per loop, total 0.5s\n",
    "# took 0.0s for him, says subsequent runs take less because it's already setup on GPU\n",
    "# took 19.5s this time (with the 37^dimensions)\n",
    "# another time it took 10s\n",
    "print(f'PyTorch/TorchQuad: {result_pytorch:.6f}')\n",
    "# why the fuck did it run 8 times? and then become undefined"
   ]
  },
  {
   "attachments": {},
   "cell_type": "markdown",
   "metadata": {},
   "source": [
    "Note that they are both exactly equal to the ground truth"
   ]
  },
  {
   "cell_type": "code",
   "execution_count": 9,
   "metadata": {
    "metadata": {}
   },
   "outputs": [
    {
     "name": "stdout",
     "output_type": "stream",
     "text": [
      "Ground Truth: 2.298488\n",
      "NumPy/Scipy: 2.298488\n"
     ]
    },
    {
     "ename": "NameError",
     "evalue": "name 'result_pytorch' is not defined",
     "output_type": "error",
     "traceback": [
      "\u001b[1;31m---------------------------------------------------------------------------\u001b[0m",
      "\u001b[1;31mNameError\u001b[0m                                 Traceback (most recent call last)",
      "Cell \u001b[1;32mIn[9], line 3\u001b[0m\n\u001b[0;32m      1\u001b[0m \u001b[38;5;28mprint\u001b[39m(\u001b[38;5;124mf\u001b[39m\u001b[38;5;124m'\u001b[39m\u001b[38;5;124mGround Truth: \u001b[39m\u001b[38;5;132;01m{\u001b[39;00mground_truth\u001b[38;5;132;01m:\u001b[39;00m\u001b[38;5;124m.6f\u001b[39m\u001b[38;5;132;01m}\u001b[39;00m\u001b[38;5;124m'\u001b[39m)\n\u001b[0;32m      2\u001b[0m \u001b[38;5;28mprint\u001b[39m(\u001b[38;5;124mf\u001b[39m\u001b[38;5;124m'\u001b[39m\u001b[38;5;124mNumPy/Scipy: \u001b[39m\u001b[38;5;132;01m{\u001b[39;00mresult_numpy\u001b[38;5;132;01m:\u001b[39;00m\u001b[38;5;124m.6f\u001b[39m\u001b[38;5;132;01m}\u001b[39;00m\u001b[38;5;124m'\u001b[39m)\n\u001b[1;32m----> 3\u001b[0m \u001b[38;5;28mprint\u001b[39m(\u001b[38;5;124mf\u001b[39m\u001b[38;5;124m'\u001b[39m\u001b[38;5;124mPyTorch/TorchQuad: \u001b[39m\u001b[38;5;132;01m{\u001b[39;00mresult_pytorch\u001b[38;5;132;01m:\u001b[39;00m\u001b[38;5;124m.6f\u001b[39m\u001b[38;5;132;01m}\u001b[39;00m\u001b[38;5;124m'\u001b[39m)\n",
      "\u001b[1;31mNameError\u001b[0m: name 'result_pytorch' is not defined"
     ]
    }
   ],
   "source": [
    "print(f'Ground Truth: {ground_truth:.6f}')\n",
    "print(f'NumPy/Scipy: {result_numpy:.6f}')\n",
    "print(f'PyTorch/TorchQuad: {result_pytorch:.6f}')"
   ]
  },
  {
   "attachments": {},
   "cell_type": "markdown",
   "metadata": {},
   "source": [
    "# A More Interesting Physics Use Case\n",
    "\n",
    "This problem requires fast integration"
   ]
  },
  {
   "cell_type": "code",
   "execution_count": 10,
   "metadata": {
    "metadata": {}
   },
   "outputs": [
    {
     "data": {
      "image/png": "[encoded data removed]",
      "text/plain": [
       "<IPython.core.display.Image object>"
      ]
     },
     "execution_count": 10,
     "metadata": {},
     "output_type": "execute_result"
    }
   ],
   "source": [
    "%matplotlib inline\n",
    "from IPython.display import Image\n",
    "Image('C:/Programming/Tutorials/GPUPython/vidIntegration.PNG')"
   ]
  },
  {
   "attachments": {},
   "cell_type": "markdown",
   "metadata": {},
   "source": [
    "<p align=\"left\">\n",
    "  <img src=\"../images/magnet_fall.PNG\" alt=\"drawing\" width=\"200\" align=\"center\"/>\n",
    "</p>\n",
    "\n",
    "A cylindrical bar magnet of total magnetization $\\vec{m}$ (isotropic, pointing in $\\hat{z}$) is falling through a loop of wire. Due to the changing magnetic flux in the loop, a current $I$ is induced. Find the current as a function of time $t$ if the magnet has the dimensions above and is dropped from an initial height $h_0L$.\n",
    "\n",
    "Note that\n",
    "\n",
    "$$I(t) = - \\frac{\\partial \\Phi}{\\partial t} = -\\frac{\\partial}{\\partial t} \\iint_{\\text{loop}} \\vec{B} \\cdot d\\vec{\\sigma} = -\\frac{\\partial}{\\partial t} \\iint_{\\text{loop}} (\\nabla \\times \\vec{A}) \\cdot d\\vec{\\sigma} = -\\frac{\\partial}{\\partial t} \\oint_{\\text{loop}} \\vec{A} \\cdot d\\vec{r} = -\\oint_{\\text{loop}}\\frac{\\partial \\vec{A}}{\\partial t} \\cdot d\\vec{r}$$\n",
    "\n",
    "So we just need to find $\\vec{A}$ from the bar magnet as a function of time and then $\\frac{\\partial \\vec{A}}{\\partial t}$. \n",
    "\n",
    "&nbsp;<br>\n",
    "\n",
    "* If the bar magnet has total magnetization $m\\hat{z}$ then it has density $\\vec{M} = \\frac{m}{\\pi a^2 L^3} \\hat{z}$\n",
    "\n",
    "&nbsp;<br>\n",
    "\n",
    "* The position of some point on the current loop is $\\vec{r}(\\phi) = \\left<RL\\cos(\\phi),~RL\\sin(\\phi),~0\\right>$\n",
    "\n",
    "&nbsp;<br>\n",
    "\n",
    "* The position of some point on the bar magnet is $\\vec{r}'(r',z',\\phi') = \\left<r'\\cos(\\phi'),~r'\\sin(\\phi'),~h(t)+z'\\right>$ where $h(t)$ corresponds to the bottom $z$ coordinate of the magnet, given by $h(t) = h_0L - \\frac{1}{2}gt^2$\n",
    "\n",
    "&nbsp;<br>\n",
    "\n",
    "* The contribution to $d\\vec{A}$ from a dipole is $d\\vec{A} = \\frac{\\mu_0}{4 \\pi} \\frac{\\vec{M} \\times (\\vec{r}-\\vec{r}')}{|\\vec{r}-\\vec{r}'|^3} d\\tau = \\frac{\\mu_0 m }{4 \\pi L^3 a^2} \\frac{\\hat{z} \\times (\\vec{r}-\\vec{r}')}{|\\vec{r}-\\vec{r}'|^3} d\\tau$. This needs to be integrated over the entire cylinder to get $\\vec{A} = \\iiint_{\\text{magnet}} d\\vec{A}$\n",
    "\n",
    "&nbsp;<br>\n",
    "\n",
    "The total integral is expressed as the following (using $d\\vec{A} = \\frac{d\\vec{A}}{d\\tau} d\\tau$ and $d\\vec{r} = \\frac{d\\vec{r}}{d\\phi} d\\phi$,  and also using $d\\tau = r'dr'd\\phi'dz'$\n",
    "\n",
    "$$I(t) = -\\oint_{\\text{loop}} \\iiint_{\\text{magnet}}\\frac{\\partial}{\\partial t} \\left(\\frac{d\\vec{A}}{d\\tau} \\cdot \\frac{d\\vec{r}}{d\\phi}\\right) r' d\\phi dr' d\\phi'  dz' = -\\int_{0}^{2\\pi} \\int_{0}^{aL} \\int_0^{2\\pi} \\int_{0}^L \\frac{\\partial}{\\partial t} \\left(\\frac{d\\vec{A}}{d\\tau} \\cdot \\frac{d\\vec{r}}{d\\phi}\\right) r' d\\phi dr' d\\phi'  dz'$$\n",
    "\n",
    "We will instead solve for $\\bar{I} = \\frac{4 \\pi^2 L^2}{\\mu_0 m}I$ as a function of $\\bar{t} = \\sqrt{g/L} \\cdot t$, as this makes both quantities dimensionless. In the expression below, all distances are expressed in units of $L$, and $d\\vec{A}/d\\tau$ now refers to $\\frac{1}{a^2}\\frac{\\hat{z} \\times (\\vec{r}-\\vec{r}')}{|\\vec{r}-\\vec{r}'|^3}$\n",
    "\n",
    "$$\\bar{I}(\\bar{t}) = -\\int_{0}^{2\\pi} \\int_{0}^{a} \\int_0^{2\\pi} \\int_{0}^1 \\frac{\\partial}{\\partial t} \\left(\\frac{d\\vec{A}}{d\\tau} \\cdot \\frac{d\\vec{r}}{d\\phi}\\right) r' d\\phi' dr' d\\phi  dz'$$\n",
    "\n",
    "We can obtain this expression below using Sympy:"
   ]
  },
  {
   "cell_type": "code",
   "execution_count": 11,
   "metadata": {
    "metadata": {}
   },
   "outputs": [
    {
     "name": "stderr",
     "output_type": "stream",
     "text": [
      "<>:2: SyntaxWarning: invalid escape sequence '\\p'\n",
      "<>:2: SyntaxWarning: invalid escape sequence '\\p'\n",
      "C:\\Users\\legom\\AppData\\Local\\Temp\\ipykernel_7788\\3172280121.py:2: SyntaxWarning: invalid escape sequence '\\p'\n",
      "  R, phi, rp, phip, zp, t, h0, a, R, c = smp.symbols('r \\phi r\\' \\phi\\' z\\' t h_0 a R c', real=True)\n"
     ]
    }
   ],
   "source": [
    "# Instead of deriving this whole expression we just use sympy for it to get all the symbols\n",
    "R, phi, rp, phip, zp, t, h0, a, R, c = smp.symbols('r \\phi r\\' \\phi\\' z\\' t h_0 a R c', real=True)"
   ]
  },
  {
   "cell_type": "code",
   "execution_count": 12,
   "metadata": {
    "metadata": {}
   },
   "outputs": [
    {
     "data": {
      "text/latex": [
       "$\\displaystyle \\phi^{2} + r'$"
      ],
      "text/plain": [
       "\\phi**2 + r'"
      ]
     },
     "execution_count": 12,
     "metadata": {},
     "output_type": "execute_result"
    }
   ],
   "source": [
    "# It returns a symbolic expression for the variables:\n",
    "phi**2 + rp\n",
    "# it literally prints \\phi^2 + r'"
   ]
  },
  {
   "attachments": {},
   "cell_type": "markdown",
   "metadata": {},
   "source": [
    "Define the height $h(t)$"
   ]
  },
  {
   "cell_type": "code",
   "execution_count": 13,
   "metadata": {
    "metadata": {}
   },
   "outputs": [],
   "source": [
    "h = h0 - smp.Rational(1,2) * t**2"
   ]
  },
  {
   "cell_type": "code",
   "execution_count": 14,
   "metadata": {
    "metadata": {}
   },
   "outputs": [
    {
     "data": {
      "text/latex": [
       "$\\displaystyle h_{0} - \\frac{t^{2}}{2}$"
      ],
      "text/plain": [
       "h_0 - t**2/2"
      ]
     },
     "execution_count": 14,
     "metadata": {},
     "output_type": "execute_result"
    }
   ],
   "source": [
    "h"
   ]
  },
  {
   "cell_type": "code",
   "execution_count": 17,
   "metadata": {
    "metadata": {}
   },
   "outputs": [
    {
     "data": {
      "text/latex": [
       "$\\displaystyle \\left[\\begin{matrix}R \\cos{\\left(\\phi \\right)} - c - r' \\cos{\\left(\\phi' \\right)}\\\\R \\sin{\\left(\\phi \\right)} - r' \\sin{\\left(\\phi' \\right)}\\\\- h_{0} + \\frac{t^{2}}{2} - z'\\end{matrix}\\right]$"
      ],
      "text/plain": [
       "Matrix([\n",
       "[R*cos(\\phi) - c - r'*cos(\\phi')],\n",
       "[    R*sin(\\phi) - r'*sin(\\phi')],\n",
       "[             -h_0 + t**2/2 - z']])"
      ]
     },
     "execution_count": 17,
     "metadata": {},
     "output_type": "execute_result"
    }
   ],
   "source": [
    "r_vec - rp_vec "
   ]
  },
  {
   "cell_type": "code",
   "execution_count": 18,
   "metadata": {
    "metadata": {}
   },
   "outputs": [
    {
     "data": {
      "text/latex": [
       "$\\displaystyle \\left[\\begin{matrix}\\frac{- R \\sin{\\left(\\phi \\right)} + r' \\sin{\\left(\\phi' \\right)}}{a^{2} \\left(\\left(R \\sin{\\left(\\phi \\right)} - r' \\sin{\\left(\\phi' \\right)}\\right)^{2} + \\left(h_{0} - \\frac{t^{2}}{2} + z'\\right)^{2} + \\left(- R \\cos{\\left(\\phi \\right)} + c + r' \\cos{\\left(\\phi' \\right)}\\right)^{2}\\right)^{\\frac{3}{2}}}\\\\\\frac{R \\cos{\\left(\\phi \\right)} - c - r' \\cos{\\left(\\phi' \\right)}}{a^{2} \\left(\\left(R \\sin{\\left(\\phi \\right)} - r' \\sin{\\left(\\phi' \\right)}\\right)^{2} + \\left(h_{0} - \\frac{t^{2}}{2} + z'\\right)^{2} + \\left(- R \\cos{\\left(\\phi \\right)} + c + r' \\cos{\\left(\\phi' \\right)}\\right)^{2}\\right)^{\\frac{3}{2}}}\\\\0\\end{matrix}\\right]$"
      ],
      "text/plain": [
       "Matrix([\n",
       "[   (-R*sin(\\phi) + r'*sin(\\phi'))/(a**2*((R*sin(\\phi) - r'*sin(\\phi'))**2 + (h_0 - t**2/2 + z')**2 + (-R*cos(\\phi) + c + r'*cos(\\phi'))**2)**(3/2))],\n",
       "[(R*cos(\\phi) - c - r'*cos(\\phi'))/(a**2*((R*sin(\\phi) - r'*sin(\\phi'))**2 + (h_0 - t**2/2 + z')**2 + (-R*cos(\\phi) + c + r'*cos(\\phi'))**2)**(3/2))],\n",
       "[                                                                                                                                                  0]])"
      ]
     },
     "execution_count": 18,
     "metadata": {},
     "output_type": "execute_result"
    }
   ],
   "source": [
    "dAdTau"
   ]
  },
  {
   "cell_type": "code",
   "execution_count": 19,
   "metadata": {
    "metadata": {}
   },
   "outputs": [
    {
     "data": {
      "text/latex": [
       "$\\displaystyle \\left[\\begin{matrix}- R \\sin{\\left(\\phi \\right)}\\\\R \\cos{\\left(\\phi \\right)}\\\\0\\end{matrix}\\right]$"
      ],
      "text/plain": [
       "Matrix([\n",
       "[-R*sin(\\phi)],\n",
       "[ R*cos(\\phi)],\n",
       "[           0]])"
      ]
     },
     "execution_count": 19,
     "metadata": {},
     "output_type": "execute_result"
    }
   ],
   "source": [
    "dr_vecdphi"
   ]
  },
  {
   "cell_type": "code",
   "execution_count": 20,
   "metadata": {
    "metadata": {}
   },
   "outputs": [
    {
     "data": {
      "text/latex": [
       "$\\displaystyle r' \\left(\\frac{3 R t \\left(- R \\sin{\\left(\\phi \\right)} + r' \\sin{\\left(\\phi' \\right)}\\right) \\left(h_{0} - \\frac{t^{2}}{2} + z'\\right) \\sin{\\left(\\phi \\right)}}{a^{2} \\left(\\left(R \\sin{\\left(\\phi \\right)} - r' \\sin{\\left(\\phi' \\right)}\\right)^{2} + \\left(h_{0} - \\frac{t^{2}}{2} + z'\\right)^{2} + \\left(- R \\cos{\\left(\\phi \\right)} + c + r' \\cos{\\left(\\phi' \\right)}\\right)^{2}\\right)^{\\frac{5}{2}}} - \\frac{3 R t \\left(h_{0} - \\frac{t^{2}}{2} + z'\\right) \\left(R \\cos{\\left(\\phi \\right)} - c - r' \\cos{\\left(\\phi' \\right)}\\right) \\cos{\\left(\\phi \\right)}}{a^{2} \\left(\\left(R \\sin{\\left(\\phi \\right)} - r' \\sin{\\left(\\phi' \\right)}\\right)^{2} + \\left(h_{0} - \\frac{t^{2}}{2} + z'\\right)^{2} + \\left(- R \\cos{\\left(\\phi \\right)} + c + r' \\cos{\\left(\\phi' \\right)}\\right)^{2}\\right)^{\\frac{5}{2}}}\\right)$"
      ],
      "text/plain": [
       "r'*(3*R*t*(-R*sin(\\phi) + r'*sin(\\phi'))*(h_0 - t**2/2 + z')*sin(\\phi)/(a**2*((R*sin(\\phi) - r'*sin(\\phi'))**2 + (h_0 - t**2/2 + z')**2 + (-R*cos(\\phi) + c + r'*cos(\\phi'))**2)**(5/2)) - 3*R*t*(h_0 - t**2/2 + z')*(R*cos(\\phi) - c - r'*cos(\\phi'))*cos(\\phi)/(a**2*((R*sin(\\phi) - r'*sin(\\phi'))**2 + (h_0 - t**2/2 + z')**2 + (-R*cos(\\phi) + c + r'*cos(\\phi'))**2)**(5/2)))"
      ]
     },
     "execution_count": 20,
     "metadata": {},
     "output_type": "execute_result"
    }
   ],
   "source": [
    "integrand"
   ]
  },
  {
   "attachments": {},
   "cell_type": "markdown",
   "metadata": {},
   "source": [
    "Find the integrand:"
   ]
  },
  {
   "cell_type": "code",
   "execution_count": 16,
   "metadata": {
    "metadata": {}
   },
   "outputs": [
    {
     "data": {
      "text/latex": [
       "$\\displaystyle \\frac{48 R r' t \\left(- R + c \\cos{\\left(\\phi \\right)} + r' \\cos{\\left(\\phi - \\phi' \\right)}\\right) \\left(2 h_{0} - t^{2} + 2 z'\\right)}{a^{2} \\left(4 R^{2} - 8 R c \\cos{\\left(\\phi \\right)} - 8 R r' \\cos{\\left(\\phi - \\phi' \\right)} + 4 c^{2} + 8 c r' \\cos{\\left(\\phi' \\right)} + 4 h_{0}^{2} - 4 h_{0} t^{2} + 8 h_{0} z' + 4 r'^{2} + t^{4} - 4 t^{2} z' + 4 z'^{2}\\right)^{\\frac{5}{2}}}$"
      ],
      "text/plain": [
       "48*R*r'*t*(-R + c*cos(\\phi) + r'*cos(\\phi - \\phi'))*(2*h_0 - t**2 + 2*z')/(a**2*(4*R**2 - 8*R*c*cos(\\phi) - 8*R*r'*cos(\\phi - \\phi') + 4*c**2 + 8*c*r'*cos(\\phi') + 4*h_0**2 - 4*h_0*t**2 + 8*h_0*z' + 4*r'**2 + t**4 - 4*t**2*z' + 4*z'**2)**(5/2))"
      ]
     },
     "execution_count": 16,
     "metadata": {},
     "output_type": "execute_result"
    }
   ],
   "source": [
    "r_vec = smp.Matrix([R*smp.cos(phi), R*smp.sin(phi), 0])     # r(\\phi) - position on loop\n",
    "rp_vec = smp.Matrix([c + rp*smp.cos(phip), rp*smp.sin(phip), h + zp])   # r'(r', \\phi', z') - position on magnet\n",
    "sep_vec = r_vec - rp_vec    # (r - r'),  nardi vector operation\n",
    "M = smp.Matrix([0,0,1])     # Magnetisation only points in z-direction\n",
    "dAdTau = 1/a**2 * M.cross(sep_vec)/sep_vec.norm()**3    # dobis celotn vektor z vsem zmnozenim\n",
    "dr_vecdphi = smp.diff(r_vec, phi)   # dr/d\\phi, differencira vektorje\n",
    "integrand = -smp.diff(dAdTau.dot(dr_vecdphi),t) * rp    # casovni odvod dAdTau * r'\n",
    "integrand.simplify()    # tole sam simplifyja expression da vse da skup na 1 ulomek"
   ]
  },
  {
   "attachments": {},
   "cell_type": "markdown",
   "metadata": {},
   "source": [
    "Hackish way to convert to pytorch function with name `integrand_f_pytorch`"
   ]
  },
  {
   "cell_type": "code",
   "execution_count": 21,
   "metadata": {
    "metadata": {}
   },
   "outputs": [],
   "source": [
    "# What are we integrating over? 4 dimensions: r', phi', z' in phi\n",
    "# Theres also the addition 5 parameters we can adjust: \n",
    "#  t - different current as a function of time, \n",
    "#  h0 - the initial height of where we drop the cilinder from\n",
    "#  c - offset of magnet from center of loop, \n",
    "#  a - radius of the current loop\n",
    "#  R - radius of the wire loop itself\n",
    "integrand_f = smp.lambdify([rp,phip,zp,phi,t,a,R,c,h0], integrand)"
   ]
  },
  {
   "cell_type": "code",
   "execution_count": 22,
   "metadata": {
    "metadata": {}
   },
   "outputs": [
    {
     "data": {
      "text/plain": [
       "0.12768530914906548"
      ]
     },
     "execution_count": 22,
     "metadata": {},
     "output_type": "execute_result"
    }
   ],
   "source": [
    "# justa regular python function that will return  a value given parameter values\n",
    "integrand_f(1,1,1,1,1,1,1,1,1) "
   ]
  },
  {
   "cell_type": "code",
   "execution_count": 23,
   "metadata": {
    "metadata": {}
   },
   "outputs": [
    {
     "data": {
      "text/plain": [
       "'def _lambdifygenerated(Dummy_37, Dummy_38, Dummy_36, Dummy_39, t, a, R, c, h_0):\\n    return Dummy_37*(3*R*t*(Dummy_37*sin(Dummy_38) - R*sin(Dummy_39))*(Dummy_36 + h_0 - 1/2*t**2)*sin(Dummy_39)/(a**2*((-Dummy_37*sin(Dummy_38) + R*sin(Dummy_39))**2 + (Dummy_36 + h_0 - 1/2*t**2)**2 + (Dummy_37*cos(Dummy_38) - R*cos(Dummy_39) + c)**2)**(5/2)) - 3*R*t*(Dummy_36 + h_0 - 1/2*t**2)*(-Dummy_37*cos(Dummy_38) + R*cos(Dummy_39) - c)*cos(Dummy_39)/(a**2*((-Dummy_37*sin(Dummy_38) + R*sin(Dummy_39))**2 + (Dummy_36 + h_0 - 1/2*t**2)**2 + (Dummy_37*cos(Dummy_38) - R*cos(Dummy_39) + c)**2)**(5/2)))\\n'"
      ]
     },
     "execution_count": 23,
     "metadata": {},
     "output_type": "execute_result"
    }
   ],
   "source": [
    "inspect.getsource(integrand_f)\n",
    "# def _lambdifygenerated <- that's the name of the function, \n",
    "#  so he .replace()es it at the end into integrand_f_pytorch"
   ]
  },
  {
   "cell_type": "code",
   "execution_count": 24,
   "metadata": {
    "metadata": {}
   },
   "outputs": [],
   "source": [
    "# 1. Convert to NumPy function\n",
    "integrand_f = smp.lambdify([rp,phip,zp,phi,t,a,R,c,h0], integrand)\n",
    "\n",
    "# But this is a numpy function meaning the np.cos and other things, \n",
    "#  need to be converted into PyTorch equivalents\n",
    "# There is no simple way to do this, he uses inspect.getsource(function)\n",
    "#  which basically converts all the code in the function into a string\n",
    "#  which we can then change things in\n",
    "# Then he exec() executes the entire function/string of code and it will run\n",
    "#  the string like if it's running the code\n",
    "\n",
    "# 2. Convert from NumPy function to PyTorch function\n",
    "exec(inspect.getsource(integrand_f).replace('cos', 'torch.cos').replace('sin','torch.sin').replace('_lambdifygenerated', 'integrand_f_pytorch'))"
   ]
  },
  {
   "cell_type": "code",
   "execution_count": 25,
   "metadata": {
    "metadata": {}
   },
   "outputs": [
    {
     "data": {
      "text/plain": [
       "<function __main__.integrand_f_pytorch(Dummy_41, Dummy_42, Dummy_40, Dummy_43, t, a, R, c, h_0)>"
      ]
     },
     "execution_count": 25,
     "metadata": {},
     "output_type": "execute_result"
    }
   ],
   "source": [
    "integrand_f_pytorch\n",
    "# <function __main__.integrand_f_pytorch(Dummy_41, Dummy_42, Dummy_40, Dummy_43, t, a, R, c, h_0)>\n",
    "# Even though we don't define the function we can execute it as a string of code"
   ]
  },
  {
   "attachments": {},
   "cell_type": "markdown",
   "metadata": {},
   "source": [
    "For solving the integral:"
   ]
  },
  {
   "cell_type": "code",
   "execution_count": 26,
   "metadata": {
    "metadata": {}
   },
   "outputs": [],
   "source": [
    "def solve(t,a,h0,R,c,N=37**4):  # We use 37 points in each dimensions (which is 4)\n",
    "    simp = Simpson()        # Make the object\n",
    "    # po vrsti kot vzgori, function ma pa additional parametre  po kerih ne integriramo\n",
    "    integration_domain = [[0,a], [0,2*np.pi], [0,1], [0,2*np.pi]]   \n",
    "    # Here we create the integrad using a lambda function, the torch function \n",
    "    #  takes in only a single tensor d and casts it onto our \"stringed\" function\n",
    "    #  we feed in each appropriate argument in the dimensions d[n_points,n_dimensions]\n",
    "    \"\"\"\n",
    "    There's 4 dimensions to this integral thats why the d\n",
    "    Also takes in the additional arguments t,a,R,c,h0\n",
    "    integrand is thus a function that takes in a pytorch tensor where the pytorch tensor\n",
    "     is the string function we defined but is now a function\n",
    "    We feed it into the simp.integrate Simpons integration, the integrand, number of dimensions\n",
    "     to integrate over, number of points per dimensions, and integration_domain of each dimension\n",
    "    \"\"\"\n",
    "    integrand = lambda d: integrand_f_pytorch(d[:,0],d[:,1],d[:,2],d[:,3],t, a, R, c, h0)\n",
    "    return simp.integrate(integrand, dim=4, N=N, integration_domain=integration_domain)\n",
    "\n",
    "def solve_multitimes(ts,a,h0,R,c,N =37**4):\n",
    "    \"\"\"\n",
    "    What we really want is to solve for the current as a function of time for given parameters\n",
    "     a,h0,R and c. (in other words, časovni potek Toka, ki je odvisen od poizicije in od dimenzij)\n",
    "    This function calls the solve function which outputs the I(specific t) and calls it\n",
    "     for all the values of t-time that we want to get the current for. \n",
    "    Basically a for loop that we put into a tensor\n",
    "    \"\"\"\n",
    "    current = torch.tensor([solve(ti,a,h0,R,c) for ti in ts])\n",
    "    return current"
   ]
  },
  {
   "attachments": {},
   "cell_type": "markdown",
   "metadata": {},
   "source": [
    "Solve for current as function of time. For two different cases\n",
    "* $c =0 \\cdot L$   -   This one means that the offset is 0, so the magnet is falling down straight through the middle of the loop (this one is analitically solvable)\n",
    "* $c= 0.25 \\cdot L$   -   Here the magnet is offset from the middle of the loop"
   ]
  },
  {
   "cell_type": "code",
   "execution_count": 27,
   "metadata": {
    "metadata": {}
   },
   "outputs": [],
   "source": [
    "t = torch.linspace(0,4,500)\n",
    "\"\"\"\n",
    "a - radius of cilyndrical magnet\n",
    "h0 - length of the magnet\n",
    "R - radius of the loop of the wire\n",
    "c = offset from centre\n",
    "\"\"\"\n",
    "current = solve_multitimes(t,a=0.1,h0=1,R=1,c=0.0)\n",
    "current2 = solve_multitimes(t,a=0.1,h0=1,R=1,c=0.25)\n",
    "# 7.4s for 1000 different integrals"
   ]
  },
  {
   "cell_type": "code",
   "execution_count": 28,
   "metadata": {
    "metadata": {}
   },
   "outputs": [
    {
     "data": {
      "text/plain": [
       "0.0057"
      ]
     },
     "execution_count": 28,
     "metadata": {},
     "output_type": "execute_result"
    }
   ],
   "source": [
    "5.7 / 1000"
   ]
  },
  {
   "cell_type": "code",
   "execution_count": 29,
   "metadata": {
    "metadata": {}
   },
   "outputs": [
    {
     "data": {
      "text/plain": [
       "<matplotlib.legend.Legend at 0x171addba000>"
      ]
     },
     "execution_count": 29,
     "metadata": {},
     "output_type": "execute_result"
    },
    {
     "data": {
      "image/png": "[encoded data removed]",
      "text/plain": [
       "<Figure size 640x480 with 1 Axes>"
      ]
     },
     "metadata": {},
     "output_type": "display_data"
    }
   ],
   "source": [
    "plt.plot(t.cpu(),current.cpu(), label=r'$c=0.0L$')\n",
    "plt.plot(t.cpu(),current2.cpu(), label=r'$c=0.25L$')\n",
    "plt.ylabel(r'$\\left(\\frac{4 \\pi^2 L^2}{\\mu_0 m}\\right) \\cdot I$', fontsize=15)\n",
    "plt.xlabel(r'$\\left(\\sqrt{g/L}\\right) \\cdot t$', fontsize=15)\n",
    "plt.grid()\n",
    "plt.title('Current Through Loop As Function of Time')\n",
    "plt.legend()"
   ]
  },
  {
   "cell_type": "markdown",
   "metadata": {},
   "source": [
    "We see that if we offcenter the magnet drop it with an offset, we get a greater current through the current loop"
   ]
  },
  {
   "attachments": {},
   "cell_type": "markdown",
   "metadata": {},
   "source": [
    "# Using CPU\n",
    "\n",
    "* Scipys `nquad` function"
   ]
  },
  {
   "cell_type": "code",
   "execution_count": 30,
   "metadata": {
    "metadata": {}
   },
   "outputs": [],
   "source": [
    "# Equivalent of the above PyTorch functions but with numpy and scipy\n",
    "def solve_numpy(t,a,h0,R,c):\n",
    "    return nquad(integrand_f, [[0,a], [0,2*np.pi], [0,1], [0,2*np.pi]],\n",
    "                    args=(t,a,R,c,h0))[0]\n",
    "\n",
    "def solve_multitimes_numpy(ts,a,h0,R,c):\n",
    "    return np.vectorize(solve_numpy)(ts,a,h0,R,c)"
   ]
  },
  {
   "cell_type": "code",
   "execution_count": 31,
   "metadata": {
    "metadata": {}
   },
   "outputs": [],
   "source": [
    "t_numpy = np.linspace(0, 4, 10)\n",
    "current_numpy = solve_multitimes_numpy(t_numpy,a=0.1,h0=1,R=1,c=0.0)\n",
    "# only 10 integrals and it takes  30s"
   ]
  },
  {
   "attachments": {},
   "cell_type": "markdown",
   "metadata": {},
   "source": [
    "Compare points evaluated using CPU to points evaluated using GPU"
   ]
  },
  {
   "cell_type": "code",
   "execution_count": 34,
   "metadata": {
    "metadata": {}
   },
   "outputs": [
    {
     "data": {
      "text/plain": [
       "<matplotlib.legend.Legend at 0x171b221be00>"
      ]
     },
     "execution_count": 34,
     "metadata": {},
     "output_type": "execute_result"
    },
    {
     "data": {
      "image/png": "[encoded data removed]",
      "text/plain": [
       "<Figure size 640x480 with 1 Axes>"
      ]
     },
     "metadata": {},
     "output_type": "display_data"
    }
   ],
   "source": [
    "plt.scatter(t_numpy, current_numpy, color='k', label='CPU')\n",
    "plt.plot(t.cpu(),current.cpu(), label='GPU')\n",
    "plt.ylabel(r'$\\left(\\frac{4 \\pi^2 L^2}{\\mu_0 m}\\right) \\cdot I$', fontsize=15)\n",
    "plt.xlabel(r'$\\left(\\sqrt{g/L}\\right) \\cdot t$', fontsize=15)\n",
    "plt.grid()\n",
    "plt.title('Current Through Loop As Function of Time')\n",
    "plt.legend()"
   ]
  },
  {
   "cell_type": "code",
   "execution_count": null,
   "metadata": {},
   "outputs": [],
   "source": []
  }
 ],
 "metadata": {
  "kernelspec": {
   "display_name": "pytorch",
   "language": "python",
   "name": "python3"
  },
  "language_info": {
   "codemirror_mode": {
    "name": "ipython",
    "version": 3
   },
   "file_extension": ".py",
   "mimetype": "text/x-python",
   "name": "python",
   "nbconvert_exporter": "python",
   "pygments_lexer": "ipython3",
   "version": "3.12.4"
  },
  "orig_nbformat": 4
 },
 "nbformat": 4,
 "nbformat_minor": 2
}
